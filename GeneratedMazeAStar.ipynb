{
 "cells": [
  {
   "cell_type": "markdown",
   "metadata": {
    "slideshow": {
     "slide_type": "-"
    }
   },
   "source": [
    "# Coursework for Artificial Intelligence H COMPSCI4004 2024-2025"
   ]
  },
  {
   "cell_type": "markdown",
   "metadata": {},
   "source": [
    "## Imports"
   ]
  },
  {
   "cell_type": "code",
   "execution_count": 69,
   "metadata": {},
   "outputs": [
    {
     "name": "stdout",
     "output_type": "stream",
     "text": [
      "Python version: 3.13.0 | packaged by Anaconda, Inc. | (main, Oct  7 2024, 21:29:38) [GCC 11.2.0]\n",
      "Networkx version: 3.4.2\n",
      "IPyWidgets version: 8.1.5\n"
     ]
    }
   ],
   "source": [
    "import os, sys\n",
    "import networkx as nx\n",
    "from mazelib import Maze\n",
    "from mazelib.generate.Prims import Prims\n",
    "import numpy as np\n",
    "import random as rand\n",
    "\n",
    "import matplotlib.pyplot as plt\n",
    "%matplotlib inline\n",
    "from ipywidgets import interact\n",
    "import ipywidgets as widgets\n",
    "from IPython.display import display\n",
    "\n",
    "import warnings\n",
    "warnings.filterwarnings(\"ignore\")\n",
    "\n",
    "print(\"Python version:\", sys.version)\n",
    "print(\"Networkx version:\", nx.__version__)\n",
    "print(\"IPyWidgets version:\", widgets.__version__)"
   ]
  },
  {
   "cell_type": "code",
   "execution_count": 70,
   "metadata": {},
   "outputs": [],
   "source": [
    "# To import the AIMA toolbox, add path the to the AIMA Python Toolbox folder on your system\n",
    "AIMA_TOOLBOX_ROOT=\"/home/valeria/Documents/Code/aima-python-uofg_v20202021a\"\n",
    "sys.path.append(AIMA_TOOLBOX_ROOT)\n",
    "\n",
    "import search as sch\n",
    "from notebookutils import psource, heatmap, gaussian_kernel, show_map, final_path_colors, display_visual, plot_NQueens\n",
    "# Needed to hide warnings in the matplotlib sections"
   ]
  },
  {
   "cell_type": "code",
   "execution_count": 71,
   "metadata": {},
   "outputs": [],
   "source": [
    "from copy import deepcopy \n",
    "from matplotlib import lines"
   ]
  },
  {
   "cell_type": "markdown",
   "metadata": {},
   "source": [
    "## Parameters"
   ]
  },
  {
   "cell_type": "code",
   "execution_count": 72,
   "metadata": {},
   "outputs": [],
   "source": [
    "N = 8 # maze will have shape (N,N)\n",
    "M = 3 # number of wormholes"
   ]
  },
  {
   "cell_type": "markdown",
   "metadata": {},
   "source": [
    "## Maze Definition"
   ]
  },
  {
   "cell_type": "code",
   "execution_count": 73,
   "metadata": {},
   "outputs": [
    {
     "name": "stdout",
     "output_type": "stream",
     "text": [
      "#########\n",
      "# # #   #\n",
      "# # # ###\n",
      "# #     E\n",
      "# # ### #\n",
      "S   # # #\n",
      "# ### # #\n",
      "#     # #\n",
      "#########\n"
     ]
    }
   ],
   "source": [
    "m = Maze ( )\n",
    "m.generator = Prims(int(N/2), int(N/2))\n",
    "m.generate()\n",
    "m.generate_entrances(True, True)\n",
    "print(m)"
   ]
  },
  {
   "cell_type": "code",
   "execution_count": 74,
   "metadata": {},
   "outputs": [
    {
     "data": {
      "text/plain": [
       "array([[1, 1, 1, 1, 1, 1, 1, 1, 1],\n",
       "       [1, 0, 1, 0, 1, 0, 0, 0, 1],\n",
       "       [1, 0, 1, 0, 1, 0, 1, 1, 1],\n",
       "       [1, 0, 1, 0, 0, 0, 0, 0, 1],\n",
       "       [1, 0, 1, 0, 1, 1, 1, 0, 1],\n",
       "       [1, 0, 0, 0, 1, 0, 1, 0, 1],\n",
       "       [1, 0, 1, 1, 1, 0, 1, 0, 1],\n",
       "       [1, 0, 0, 0, 0, 0, 1, 0, 1],\n",
       "       [1, 1, 1, 1, 1, 1, 1, 1, 1]], dtype=int8)"
      ]
     },
     "execution_count": 74,
     "metadata": {},
     "output_type": "execute_result"
    }
   ],
   "source": [
    "m.grid"
   ]
  },
  {
   "cell_type": "code",
   "execution_count": 75,
   "metadata": {},
   "outputs": [
    {
     "data": {
      "text/plain": [
       "<matplotlib.image.AxesImage at 0x735b50057610>"
      ]
     },
     "execution_count": 75,
     "metadata": {},
     "output_type": "execute_result"
    },
    {
     "data": {
      "image/png": "[encoded data removed]",
      "text/plain": [
       "<Figure size 640x480 with 1 Axes>"
      ]
     },
     "metadata": {},
     "output_type": "display_data"
    }
   ],
   "source": [
    "plt.imshow(np.logical_not(m.grid), cmap=\"gray\")"
   ]
  },
  {
   "cell_type": "code",
   "execution_count": 76,
   "metadata": {},
   "outputs": [
    {
     "data": {
      "text/plain": [
       "np.int8(1)"
      ]
     },
     "execution_count": 76,
     "metadata": {},
     "output_type": "execute_result"
    }
   ],
   "source": [
    "m.grid[1,2]"
   ]
  },
  {
   "cell_type": "code",
   "execution_count": 77,
   "metadata": {},
   "outputs": [],
   "source": [
    "tile2str = lambda i, j : f\"S_{i:02d}_{j:02d}\""
   ]
  },
  {
   "cell_type": "code",
   "execution_count": 78,
   "metadata": {},
   "outputs": [],
   "source": [
    "map_locations = {tile2str(i,j): (i,j) for i in range(N) for j in range(N)}"
   ]
  },
  {
   "cell_type": "code",
   "execution_count": 79,
   "metadata": {},
   "outputs": [],
   "source": [
    "network_dict = {}\n",
    "map_locations = {}\n",
    "for i in range(N):\n",
    "    for j in range(N):\n",
    "        if not m.grid[i,j]: \n",
    "            cell_dict = {}\n",
    "            if i>0 and not m.grid[i-1,j]: cell_dict[ tile2str(j,i-1) ] = 1\n",
    "            if i<N-1 and not m.grid[i+1,j]: cell_dict[ tile2str(j,i+1) ] = 1\n",
    "            if j>0 and not m.grid[i,j-1]: cell_dict[ tile2str(j-1,i) ] = 1\n",
    "            if j<N-1 and not m.grid[i,j+1]: cell_dict[ tile2str(j+1,i) ] = 1\n",
    "            network_dict[ tile2str(j,i) ] = cell_dict\n",
    "            map_locations[ tile2str(j,i) ] = (j,i)"
   ]
  },
  {
   "cell_type": "code",
   "execution_count": 80,
   "metadata": {},
   "outputs": [
    {
     "data": {
      "text/plain": [
       "{'S_01_01': {'S_01_02': 1},\n",
       " 'S_03_01': {'S_03_02': 1},\n",
       " 'S_05_01': {'S_05_02': 1, 'S_06_01': 1},\n",
       " 'S_06_01': {'S_05_01': 1, 'S_07_01': 1},\n",
       " 'S_07_01': {'S_06_01': 1},\n",
       " 'S_01_02': {'S_01_01': 1, 'S_01_03': 1},\n",
       " 'S_03_02': {'S_03_01': 1, 'S_03_03': 1},\n",
       " 'S_05_02': {'S_05_01': 1, 'S_05_03': 1},\n",
       " 'S_01_03': {'S_01_02': 1, 'S_01_04': 1},\n",
       " 'S_03_03': {'S_03_02': 1, 'S_03_04': 1, 'S_04_03': 1},\n",
       " 'S_04_03': {'S_03_03': 1, 'S_05_03': 1},\n",
       " 'S_05_03': {'S_05_02': 1, 'S_04_03': 1, 'S_06_03': 1},\n",
       " 'S_06_03': {'S_05_03': 1, 'S_07_03': 1},\n",
       " 'S_07_03': {'S_07_04': 1, 'S_06_03': 1},\n",
       " 'S_01_04': {'S_01_03': 1, 'S_01_05': 1},\n",
       " 'S_03_04': {'S_03_03': 1, 'S_03_05': 1},\n",
       " 'S_07_04': {'S_07_03': 1, 'S_07_05': 1},\n",
       " 'S_01_05': {'S_01_04': 1, 'S_01_06': 1, 'S_02_05': 1},\n",
       " 'S_02_05': {'S_01_05': 1, 'S_03_05': 1},\n",
       " 'S_03_05': {'S_03_04': 1, 'S_02_05': 1},\n",
       " 'S_05_05': {'S_05_06': 1},\n",
       " 'S_07_05': {'S_07_04': 1, 'S_07_06': 1},\n",
       " 'S_01_06': {'S_01_05': 1, 'S_01_07': 1},\n",
       " 'S_05_06': {'S_05_05': 1, 'S_05_07': 1},\n",
       " 'S_07_06': {'S_07_05': 1, 'S_07_07': 1},\n",
       " 'S_01_07': {'S_01_06': 1, 'S_02_07': 1},\n",
       " 'S_02_07': {'S_01_07': 1, 'S_03_07': 1},\n",
       " 'S_03_07': {'S_02_07': 1, 'S_04_07': 1},\n",
       " 'S_04_07': {'S_03_07': 1, 'S_05_07': 1},\n",
       " 'S_05_07': {'S_05_06': 1, 'S_04_07': 1},\n",
       " 'S_07_07': {'S_07_06': 1}}"
      ]
     },
     "execution_count": 80,
     "metadata": {},
     "output_type": "execute_result"
    }
   ],
   "source": [
    "network_dict"
   ]
  },
  {
   "cell_type": "markdown",
   "metadata": {},
   "source": [
    "Important personal interpretation\n",
    "- I am assuming that going down a teleportation link is optional: e.g. in (2,1) it's possible to go right, go left, or go down the teleportation link.\n",
    "- I am assuming that the wormholes are two-ways passages: e.g. from (2,1) you can go down the teleportation link to (0,7), and from (0,7) you can go back to (2,1)."
   ]
  },
  {
   "cell_type": "markdown",
   "metadata": {},
   "source": [
    "\n",
    "- Environment? Besides being discrete and static, it is...\n",
    "    - Deterministic, because wormholes might lead to an unknown state, but they always lead to the same state with 100% probability.\n",
    "    - Partially observable, because it is not known from the percepts where the \"teleport\" action is going to take the agent.\n",
    "- Actuators? Move the agent according to 5 possible actions:\n",
    "    - Left\n",
    "    - Right\n",
    "    - Up\n",
    "    - Down\n",
    "    - Teleport\n",
    "- Percepts? \n",
    "    - Current x,y location\n",
    "    - Feasibility of all 5 actions, expressed by booleans (l,r,u,d,t)\n",
    "- Sensors? Incomplete because...\n",
    "    - The agent knows to which state the (Left, Right, Up, Down) actions take it\n",
    "    - But the agent does not know to which state the (Teleport) action takes it\n",
    "- Performance measure? The sortest the path to goal, the better (in terms of steps taken from the start point)"
   ]
  },
  {
   "cell_type": "markdown",
   "metadata": {},
   "source": [
    "### Graph representation"
   ]
  },
  {
   "cell_type": "markdown",
   "metadata": {},
   "source": [
    "#### States and actions definitions"
   ]
  },
  {
   "cell_type": "code",
   "execution_count": 81,
   "metadata": {},
   "outputs": [],
   "source": [
    "maze_map = sch.UndirectedGraph(network_dict)\n",
    "maze_map.locations = map_locations"
   ]
  },
  {
   "cell_type": "code",
   "execution_count": 82,
   "metadata": {},
   "outputs": [
    {
     "name": "stdout",
     "output_type": "stream",
     "text": [
      "Unique states/nodes (i.e.locations) and possible actions in those states:\n",
      "\n",
      "{'S_01_01': (1, 1), 'S_03_01': (3, 1), 'S_05_01': (5, 1), 'S_06_01': (6, 1), 'S_07_01': (7, 1), 'S_01_02': (1, 2), 'S_03_02': (3, 2), 'S_05_02': (5, 2), 'S_01_03': (1, 3), 'S_03_03': (3, 3), 'S_04_03': (4, 3), 'S_05_03': (5, 3), 'S_06_03': (6, 3), 'S_07_03': (7, 3), 'S_01_04': (1, 4), 'S_03_04': (3, 4), 'S_07_04': (7, 4), 'S_01_05': (1, 5), 'S_02_05': (2, 5), 'S_03_05': (3, 5), 'S_05_05': (5, 5), 'S_07_05': (7, 5), 'S_01_06': (1, 6), 'S_05_06': (5, 6), 'S_07_06': (7, 6), 'S_01_07': (1, 7), 'S_02_07': (2, 7), 'S_03_07': (3, 7), 'S_04_07': (4, 7), 'S_05_07': (5, 7), 'S_07_07': (7, 7)}\n"
     ]
    }
   ],
   "source": [
    "print(\"Unique states/nodes (i.e.locations) and possible actions in those states:\\n\") \n",
    "print(maze_map.locations) "
   ]
  },
  {
   "cell_type": "markdown",
   "metadata": {},
   "source": [
    "### Visualization"
   ]
  },
  {
   "cell_type": "code",
   "execution_count": 83,
   "metadata": {},
   "outputs": [
    {
     "name": "stdout",
     "output_type": "stream",
     "text": [
      "Done creating the graph object\n"
     ]
    }
   ],
   "source": [
    "# node colors, node positions and node label positions\n",
    "node_colors = {node: 'white' for node in maze_map.locations.keys()}\n",
    "node_positions = maze_map.locations\n",
    "node_label_pos = { k:[v[0],v[1]-.3]  for k,v in maze_map.locations.items() }\n",
    "edge_weights = {(k, k2) : v2 for k, v in maze_map.graph_dict.items() for k2, v2 in v.items()}\n",
    "\n",
    "maze_graph_data = {  'graph_dict' : maze_map.graph_dict,\n",
    "                        'node_colors': node_colors,\n",
    "                        'node_positions': node_positions,\n",
    "                        'node_label_positions': node_label_pos,\n",
    "                        'edge_weights': edge_weights\n",
    "                     }\n",
    "\n",
    "print(\"Done creating the graph object\")"
   ]
  },
  {
   "cell_type": "code",
   "execution_count": 84,
   "metadata": {},
   "outputs": [
    {
     "data": {
      "image/png": "[encoded data removed]",
      "text/plain": [
       "<Figure size 1800x1300 with 1 Axes>"
      ]
     },
     "metadata": {},
     "output_type": "display_data"
    }
   ],
   "source": [
    "show_map(maze_graph_data)"
   ]
  },
  {
   "cell_type": "markdown",
   "metadata": {},
   "source": [
    "## Solving the problem"
   ]
  },
  {
   "cell_type": "markdown",
   "metadata": {},
   "source": [
    "Now that the graph/map has been completed in Q3.1.6 (c), we will try to use A-star to find a viable path."
   ]
  },
  {
   "cell_type": "markdown",
   "metadata": {},
   "source": [
    "### Define the problem using the AIMA toolbox"
   ]
  },
  {
   "cell_type": "code",
   "execution_count": null,
   "metadata": {},
   "outputs": [],
   "source": [
    "maze_problem = sch.GraphProblem('S_00_00', 'S_01_09', maze_map)\n",
    "\n",
    "print(\"Initial state: \" + maze_problem.initial)\n",
    "print(\"Goal state: \"    + maze_problem.goal)"
   ]
  },
  {
   "cell_type": "markdown",
   "metadata": {},
   "source": [
    "### Define the A-star search function"
   ]
  },
  {
   "cell_type": "markdown",
   "metadata": {},
   "source": [
    "The cells below copy the A* implementation from Lab 3, using a helper functions from the AIMA toolbox.\n",
    "\n",
    "According to the current setup...\n",
    "- Heuristic function h = Euclidian distance to the maze exit\n",
    "- Cost function f = Uniform, weighted 1 for everything according to the network definition\n",
    "\n",
    "Since the weights are uniform, this algorithm is efectively running a greedy best first search that minimizes h\n"
   ]
  },
  {
   "cell_type": "code",
   "execution_count": null,
   "metadata": {},
   "outputs": [],
   "source": [
    "def my_best_first_graph_search_for_vis(problem, f):\n",
    "    \"\"\"Search the nodes with the lowest f scores first.\n",
    "    You specify the function f(node) that you want to minimize; for example,\n",
    "    if f is a heuristic estimate to the goal, then we have greedy best\n",
    "    first search; if f is node.depth then we have breadth-first search.\n",
    "    There is a subtlety: the line \"f = memoize(f, 'f')\" means that the f\n",
    "    values will be cached on the nodes as they are computed. So after doing\n",
    "    a best first search you can examine the f values of the path returned.\"\"\"\n",
    "    \n",
    "    # we use these two variables at the time of visualisations\n",
    "    iterations = 0\n",
    "    all_node_colors = []\n",
    "    node_colors = {k : 'white' for k in problem.graph.nodes()}\n",
    "    \n",
    "    f = sch.memoize(f, 'f')\n",
    "    node = sch.Node(problem.initial)\n",
    "    \n",
    "    node_colors[node.state] = \"red\"\n",
    "    iterations += 1\n",
    "    all_node_colors.append(dict(node_colors))\n",
    "    \n",
    "    if problem.goal_test(node.state):\n",
    "        node_colors[node.state] = \"green\"\n",
    "        iterations += 1\n",
    "        all_node_colors.append(dict(node_colors))\n",
    "        return(iterations, all_node_colors, node)\n",
    "    \n",
    "    frontier = sch.PriorityQueue('min', f)\n",
    "    frontier.append(node)\n",
    "    \n",
    "    node_colors[node.state] = \"orange\"\n",
    "    iterations += 1\n",
    "    all_node_colors.append(dict(node_colors))\n",
    "    \n",
    "    explored = set()\n",
    "    while frontier:\n",
    "        node = frontier.pop()\n",
    "        \n",
    "        node_colors[node.state] = \"red\"\n",
    "        iterations += 1\n",
    "        all_node_colors.append(dict(node_colors))\n",
    "        \n",
    "        if problem.goal_test(node.state):\n",
    "            node_colors[node.state] = \"green\"\n",
    "            iterations += 1\n",
    "            all_node_colors.append(dict(node_colors))\n",
    "            return(iterations, all_node_colors, node)\n",
    "        \n",
    "        explored.add(node.state)\n",
    "        for child in node.expand(problem):\n",
    "            if child.state not in explored and child not in frontier:\n",
    "                frontier.append(child)\n",
    "                node_colors[child.state] = \"orange\"\n",
    "                iterations += 1\n",
    "                all_node_colors.append(dict(node_colors))\n",
    "            elif child in frontier:\n",
    "                incumbent = frontier[child]\n",
    "                if f(child) < f(incumbent):\n",
    "                    del frontier[incumbent]\n",
    "                    frontier.append(child)\n",
    "                    node_colors[child.state] = \"orange\"\n",
    "                    iterations += 1\n",
    "                    all_node_colors.append(dict(node_colors))\n",
    "\n",
    "        node_colors[node.state] = \"gray\"\n",
    "        iterations += 1\n",
    "        all_node_colors.append(dict(node_colors))\n",
    "    return None\n"
   ]
  },
  {
   "cell_type": "code",
   "execution_count": null,
   "metadata": {},
   "outputs": [],
   "source": [
    "def my_astar_search_graph(problem, h=None):\n",
    "    \"\"\"A* search is best-first graph search with f(n) = g(n)+h(n).\n",
    "    You need to specify the h function when you call astar_search, or\n",
    "    else in your Problem subclass.\"\"\"\n",
    "    h = sch.memoize(h or problem.h, 'h')\n",
    "    iterations, all_node_colors, node = my_best_first_graph_search_for_vis(problem, \n",
    "                                                                lambda n: n.path_cost + h(n))\n",
    "    return(iterations, all_node_colors, node)"
   ]
  },
  {
   "cell_type": "markdown",
   "metadata": {},
   "source": [
    "### Run the solver"
   ]
  },
  {
   "cell_type": "code",
   "execution_count": null,
   "metadata": {},
   "outputs": [],
   "source": [
    "all_node_colors=[]\n",
    "iterations, all_node_colors, node = my_astar_search_graph(problem=maze_problem, h=None)\n",
    "\n",
    "#-- Trace the solution --#\n",
    "solution_path = [node]\n",
    "cnode = node.parent\n",
    "solution_path.append(cnode)\n",
    "while cnode.state != \"S_00_00\":    \n",
    "    cnode = cnode.parent  \n",
    "    solution_path.append(cnode)\n",
    "\n",
    "print(\"----------------------------------------\")\n",
    "print(\"Identified goal state:\"+str(solution_path[0]))\n",
    "print(\"----------------------------------------\")\n",
    "print(\"Solution trace:\"+str(solution_path))\n",
    "print(\"----------------------------------------\")\n"
   ]
  },
  {
   "cell_type": "markdown",
   "metadata": {},
   "source": [
    "### Visualization"
   ]
  },
  {
   "cell_type": "code",
   "execution_count": null,
   "metadata": {},
   "outputs": [],
   "source": [
    "do_full_visualization = True\n",
    "if do_full_visualization:     \n",
    "    # WARNING the FULL visualisation might not work very well on some computers due to \n",
    "    # the large graph and the many iterations required.The visualisaiton will \n",
    "    # typically compute the solution and do the plotting at the end - and it often takes a long time ...\n",
    "    #\n",
    "    print(\"::: Full Visualization ::::\")\n",
    "    all_node_colors = []        \n",
    "    display_visual(maze_graph_data, user_input=False, \n",
    "               algorithm=my_astar_search_graph, \n",
    "               problem=maze_problem)"
   ]
  },
  {
   "cell_type": "markdown",
   "metadata": {},
   "source": [
    "#### Analysis"
   ]
  },
  {
   "cell_type": "markdown",
   "metadata": {},
   "source": [
    "The solution found is the optimal one. There is one more optimal solution, the one going through 01_07 and 01_08 instead of 00_08 and 00_09."
   ]
  }
 ],
 "metadata": {
  "anaconda-cloud": {},
  "kernelspec": {
   "display_name": "AICoursework",
   "language": "python",
   "name": "python3"
  },
  "language_info": {
   "codemirror_mode": {
    "name": "ipython",
    "version": 3
   },
   "file_extension": ".py",
   "mimetype": "text/x-python",
   "name": "python",
   "nbconvert_exporter": "python",
   "pygments_lexer": "ipython3",
   "version": "3.13.0"
  },
  "widgets": {
   "state": {
    "1165590537ad42319be0fd672ba93fcf": {
     "views": [
      {
       "cell_index": 70
      }
     ]
    },
    "218bb03559334f53865f3c549687947f": {
     "views": [
      {
       "cell_index": 70
      }
     ]
    },
    "2da45e0a19e245e9a3766718bc868d68": {
     "views": [
      {
       "cell_index": 70
      }
     ]
    },
    "2e1f54660c9d49d0bd59d8783505c928": {
     "views": [
      {
       "cell_index": 73
      }
     ]
    },
    "388748b8801742c38b9efbd0f572e255": {
     "views": [
      {
       "cell_index": 70
      }
     ]
    },
    "3aa93a0d80464011866fbce0ab9c6847": {
     "views": [
      {
       "cell_index": 70
      }
     ]
    },
    "3b7f6cf85b15420182f027cefdbb4e41": {
     "views": [
      {
       "cell_index": 70
      }
     ]
    },
    "3ccc236121f746219ee914dd4eaf7745": {
     "views": [
      {
       "cell_index": 69
      }
     ]
    },
    "56e20e7ebc6b49c7a27f57bddb9d0d03": {
     "views": [
      {
       "cell_index": 70
      }
     ]
    },
    "572cff82823345058557962a93c21b14": {
     "views": [
      {
       "cell_index": 69
      }
     ]
    },
    "5e87b7cb75714dd9a3528f54bf26a330": {
     "views": [
      {
       "cell_index": 70
      }
     ]
    },
    "63f3739d2b8b499ab2e93ff9b98d2cd7": {
     "views": [
      {
       "cell_index": 74
      }
     ]
    },
    "6d4f09551948409ab609dd0ba0f80042": {
     "views": [
      {
       "cell_index": 70
      }
     ]
    },
    "7fa3698b72794594b321f1173c5334a1": {
     "views": [
      {
       "cell_index": 70
      }
     ]
    },
    "9df03dfad39b4a5ca5ded7be8afd4e3c": {
     "views": [
      {
       "cell_index": 73
      }
     ]
    },
    "a0f16426957b477bb254ed9909be63d1": {
     "views": [
      {
       "cell_index": 70
      }
     ]
    },
    "b406cc83e6fc4a4b932c7a120fb1149c": {
     "views": [
      {
       "cell_index": 75
      }
     ]
    },
    "c700f1455a714b1c9407172f8a5cbd88": {
     "views": [
      {
       "cell_index": 65
      }
     ]
    },
    "cca4938ba56444c386666cf90477abaa": {
     "views": [
      {
       "cell_index": 70
      }
     ]
    },
    "d2ae94a64b914cb38f8e714bd9701d97": {
     "views": [
      {
       "cell_index": 70
      }
     ]
    },
    "e2aeb79eea344a58a969b2963578f355": {
     "views": [
      {
       "cell_index": 75
      }
     ]
    },
    "e30b4000d76449d8bf0614226915668d": {
     "views": [
      {
       "cell_index": 70
      }
     ]
    },
    "e405328e5ad34d04b42a6ddfc22d6730": {
     "views": [
      {
       "cell_index": 70
      }
     ]
    },
    "fa3e57a2fcfb4302b47b0992eddc7063": {
     "views": [
      {
       "cell_index": 69
      }
     ]
    }
   },
   "version": "1.2.0"
  }
 },
 "nbformat": 4,
 "nbformat_minor": 4
}
