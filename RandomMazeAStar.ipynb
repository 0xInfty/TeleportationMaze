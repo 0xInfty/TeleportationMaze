{
 "cells": [
  {
   "cell_type": "markdown",
   "metadata": {
    "slideshow": {
     "slide_type": "-"
    }
   },
   "source": [
    "# Coursework for Artificial Intelligence H COMPSCI4004 2024-2025"
   ]
  },
  {
   "cell_type": "markdown",
   "metadata": {},
   "source": [
    "## Imports"
   ]
  },
  {
   "cell_type": "code",
   "execution_count": 443,
   "metadata": {},
   "outputs": [
    {
     "name": "stdout",
     "output_type": "stream",
     "text": [
      "Python version: 3.13.0 | packaged by Anaconda, Inc. | (main, Oct  7 2024, 21:29:38) [GCC 11.2.0]\n",
      "Networkx version: 3.4.2\n",
      "IPyWidgets version: 8.1.5\n"
     ]
    }
   ],
   "source": [
    "import os, sys\n",
    "import networkx as nx\n",
    "from mazelib import Maze\n",
    "from mazelib.generate.Prims import Prims\n",
    "import numpy as np\n",
    "import random as rand\n",
    "\n",
    "import matplotlib.pyplot as plt\n",
    "%matplotlib inline\n",
    "from ipywidgets import interact\n",
    "import ipywidgets as widgets\n",
    "from IPython.display import display\n",
    "\n",
    "import warnings\n",
    "warnings.filterwarnings(\"ignore\")\n",
    "\n",
    "print(\"Python version:\", sys.version)\n",
    "print(\"Networkx version:\", nx.__version__)\n",
    "print(\"IPyWidgets version:\", widgets.__version__)"
   ]
  },
  {
   "cell_type": "code",
   "execution_count": 444,
   "metadata": {},
   "outputs": [],
   "source": [
    "# To import the AIMA toolbox, add path the to the AIMA Python Toolbox folder on your system\n",
    "AIMA_TOOLBOX_ROOT=\"/home/valeria/Documents/Code/aima-python-uofg_v20202021a\"\n",
    "sys.path.append(AIMA_TOOLBOX_ROOT)\n",
    "\n",
    "import search as sch\n",
    "from notebookutils import show_map, display_visual\n",
    "# Needed to hide warnings in the matplotlib sections"
   ]
  },
  {
   "cell_type": "markdown",
   "metadata": {},
   "source": [
    "## Parameters"
   ]
  },
  {
   "cell_type": "code",
   "execution_count": 445,
   "metadata": {},
   "outputs": [],
   "source": [
    "N = 9 # Number of tiles on the side\n",
    "M = 3 # Number of wormholes"
   ]
  },
  {
   "cell_type": "code",
   "execution_count": 446,
   "metadata": {},
   "outputs": [],
   "source": [
    "# Maze will have shape (N,N) counting walls ==> N needs to be an odd number\n",
    "assert N % 2 == 1, \"N needs to be an odd number\"\n",
    "# Entrance and exit are in the walls"
   ]
  },
  {
   "cell_type": "markdown",
   "metadata": {},
   "source": [
    "## Maze Generation"
   ]
  },
  {
   "cell_type": "markdown",
   "metadata": {},
   "source": [
    "### Generate a random maze"
   ]
  },
  {
   "cell_type": "code",
   "execution_count": 447,
   "metadata": {},
   "outputs": [],
   "source": [
    "rand.seed(32)"
   ]
  },
  {
   "cell_type": "code",
   "execution_count": 448,
   "metadata": {},
   "outputs": [
    {
     "name": "stdout",
     "output_type": "stream",
     "text": [
      "#######E#\n",
      "#   #   #\n",
      "### # ###\n",
      "# # # # #\n",
      "# # # # #\n",
      "#     # #\n",
      "# ### # #\n",
      "#   #   #\n",
      "#S#######\n",
      "9\n"
     ]
    }
   ],
   "source": [
    "m = Maze( )\n",
    "m.generator = Prims(int(N/2), int(N/2))\n",
    "m.generate()\n",
    "m.generate_entrances(True, True)\n",
    "print(m)\n",
    "print(len(m.grid))"
   ]
  },
  {
   "cell_type": "code",
   "execution_count": 449,
   "metadata": {},
   "outputs": [
    {
     "data": {
      "text/plain": [
       "array([[1, 1, 1, 1, 1, 1, 1, 1, 1],\n",
       "       [1, 0, 0, 0, 1, 0, 0, 0, 1],\n",
       "       [1, 1, 1, 0, 1, 0, 1, 1, 1],\n",
       "       [1, 0, 1, 0, 1, 0, 1, 0, 1],\n",
       "       [1, 0, 1, 0, 1, 0, 1, 0, 1],\n",
       "       [1, 0, 0, 0, 0, 0, 1, 0, 1],\n",
       "       [1, 0, 1, 1, 1, 0, 1, 0, 1],\n",
       "       [1, 0, 0, 0, 1, 0, 0, 0, 1],\n",
       "       [1, 1, 1, 1, 1, 1, 1, 1, 1]], dtype=int8)"
      ]
     },
     "execution_count": 449,
     "metadata": {},
     "output_type": "execute_result"
    }
   ],
   "source": [
    "m.grid"
   ]
  },
  {
   "cell_type": "code",
   "execution_count": 450,
   "metadata": {},
   "outputs": [
    {
     "data": {
      "text/plain": [
       "<matplotlib.image.AxesImage at 0x70b533582710>"
      ]
     },
     "execution_count": 450,
     "metadata": {},
     "output_type": "execute_result"
    },
    {
     "data": {
      "image/png": "[encoded data removed]",
      "text/plain": [
       "<Figure size 640x480 with 1 Axes>"
      ]
     },
     "metadata": {},
     "output_type": "display_data"
    }
   ],
   "source": [
    "plt.imshow(np.logical_not(m.grid), cmap=\"gray\", origin=\"lower\")"
   ]
  },
  {
   "cell_type": "markdown",
   "metadata": {},
   "source": [
    "### Get a grid with entrance and exit"
   ]
  },
  {
   "cell_type": "code",
   "execution_count": 451,
   "metadata": {},
   "outputs": [],
   "source": [
    "maze_grid = np.logical_not(m.grid)*2\n",
    "maze_grid[m.start] = 1\n",
    "maze_grid[m.end] = 3\n",
    "maze_grid = maze_grid.astype(np.uint8)\n",
    "# Probably won't be able to have more than 2**8-3 wormholes\n",
    "\n",
    "n = len(maze_grid)"
   ]
  },
  {
   "cell_type": "code",
   "execution_count": 452,
   "metadata": {},
   "outputs": [
    {
     "data": {
      "text/plain": [
       "array([[0, 0, 0, 0, 0, 0, 0, 3, 0],\n",
       "       [0, 2, 2, 2, 0, 2, 2, 2, 0],\n",
       "       [0, 0, 0, 2, 0, 2, 0, 0, 0],\n",
       "       [0, 2, 0, 2, 0, 2, 0, 2, 0],\n",
       "       [0, 2, 0, 2, 0, 2, 0, 2, 0],\n",
       "       [0, 2, 2, 2, 2, 2, 0, 2, 0],\n",
       "       [0, 2, 0, 0, 0, 2, 0, 2, 0],\n",
       "       [0, 2, 2, 2, 0, 2, 2, 2, 0],\n",
       "       [0, 1, 0, 0, 0, 0, 0, 0, 0]], dtype=uint8)"
      ]
     },
     "execution_count": 452,
     "metadata": {},
     "output_type": "execute_result"
    }
   ],
   "source": [
    "maze_grid"
   ]
  },
  {
   "cell_type": "code",
   "execution_count": 453,
   "metadata": {},
   "outputs": [
    {
     "data": {
      "text/plain": [
       "<matplotlib.image.AxesImage at 0x70b5335f9450>"
      ]
     },
     "execution_count": 453,
     "metadata": {},
     "output_type": "execute_result"
    },
    {
     "data": {
      "image/png": "[encoded data removed]",
      "text/plain": [
       "<Figure size 640x480 with 1 Axes>"
      ]
     },
     "metadata": {},
     "output_type": "display_data"
    }
   ],
   "source": [
    "plt.imshow(maze_grid, cmap=\"gray\", origin=\"lower\")"
   ]
  },
  {
   "cell_type": "markdown",
   "metadata": {},
   "source": [
    "### Generate wormholes"
   ]
  },
  {
   "cell_type": "markdown",
   "metadata": {},
   "source": [
    "#### Some helper functions"
   ]
  },
  {
   "cell_type": "code",
   "execution_count": 474,
   "metadata": {},
   "outputs": [],
   "source": [
    "def square2flat(i, j, N):\n",
    "    \"\"\"From indices in a square array, to index in flatten array\"\"\"\n",
    "    return i*N + j\n",
    "\n",
    "def flat2square(k, N):\n",
    "    \"\"\"From indices in a flatten array, to index in square array\"\"\"\n",
    "    return (k // N, k % N)\n",
    "\n",
    "def square_neighbours(k, N):\n",
    "    \"\"\"Return neighbours in a squared array while working with flatten indices\"\"\"\n",
    "    i, j = flat2square(k, N)\n",
    "    neighbours = []\n",
    "    if i>0: neighbours.append(k-N)\n",
    "    if i<N-1: neighbours.append(k+N)\n",
    "    if j>0: neighbours.append(k-1)\n",
    "    if j<N-1: neighbours.append(k+1)\n",
    "    return neighbours    "
   ]
  },
  {
   "cell_type": "code",
   "execution_count": 476,
   "metadata": {},
   "outputs": [
    {
     "name": "stdout",
     "output_type": "stream",
     "text": [
      "Flat index 80\n",
      "Square array indices (8, 8)\n",
      "Neighbours' flat indices [71, 79]\n",
      "Neighbours' square indices [(7, 8), (8, 7)]\n"
     ]
    }
   ],
   "source": [
    "index = square2flat(8,8,N)\n",
    "\n",
    "print(\"Flat index\", index)\n",
    "print(\"Square array indices\", flat2square(index, N))\n",
    "print(\"Neighbours' flat indices\", square_neighbours(index, N))\n",
    "print(\"Neighbours' square indices\", [flat2square(k, N) for k in square_neighbours(index, N)])"
   ]
  },
  {
   "cell_type": "markdown",
   "metadata": {},
   "source": [
    "#### Wormhole indices selection"
   ]
  },
  {
   "cell_type": "code",
   "execution_count": 456,
   "metadata": {},
   "outputs": [],
   "source": [
    "# Available tiles for wormhole entrances\n",
    "indices_available = np.where(maze_grid.flatten()==2)[0].tolist()\n",
    "n_available = len(indices_available)\n",
    "assert n_available >= 2*M, \"Not enough empty tiles for that many wormholes\"\n"
   ]
  },
  {
   "cell_type": "code",
   "execution_count": 457,
   "metadata": {},
   "outputs": [],
   "source": [
    "# Randomize positions\n",
    "rand.shuffle(indices_available)\n",
    "\n",
    "# Make sure that wormholes are not formed between neighbours\n",
    "wormholes = []\n",
    "filled = False\n",
    "while not filled:\n",
    "    if len(wormholes)%2 == 0:\n",
    "        add_candidate = True\n",
    "    else:\n",
    "        if indices_available[0] not in square_neighbours(index, wormholes[-1]):\n",
    "            add_candidate = True\n",
    "        else: add_candidate = False\n",
    "    if add_candidate:\n",
    "        wormholes.append( indices_available.pop(0) )\n",
    "    else:\n",
    "        indices_available.append( indices_available.pop(0) )\n",
    "    filled = len(wormholes) == 2*M"
   ]
  },
  {
   "cell_type": "code",
   "execution_count": 458,
   "metadata": {},
   "outputs": [
    {
     "data": {
      "text/plain": [
       "[34, 15, 64, 49, 39, 23]"
      ]
     },
     "execution_count": 458,
     "metadata": {},
     "output_type": "execute_result"
    }
   ],
   "source": [
    "wormholes"
   ]
  },
  {
   "cell_type": "markdown",
   "metadata": {},
   "source": [
    "### Update maze grid with the wormholes"
   ]
  },
  {
   "cell_type": "code",
   "execution_count": null,
   "metadata": {},
   "outputs": [],
   "source": [
    "for w_ij in range(2*M):\n",
    "    i, j = flat2square(wormholes[w_ij], N)\n",
    "    maze_grid[i,j] = int(w_ij/2) + 4"
   ]
  },
  {
   "cell_type": "code",
   "execution_count": 460,
   "metadata": {},
   "outputs": [
    {
     "data": {
      "text/plain": [
       "array([[0, 0, 0, 0, 0, 0, 0, 3, 0],\n",
       "       [0, 2, 2, 2, 0, 2, 4, 2, 0],\n",
       "       [0, 0, 0, 2, 0, 6, 0, 0, 0],\n",
       "       [0, 2, 0, 2, 0, 2, 0, 4, 0],\n",
       "       [0, 2, 0, 6, 0, 2, 0, 2, 0],\n",
       "       [0, 2, 2, 2, 5, 2, 0, 2, 0],\n",
       "       [0, 2, 0, 0, 0, 2, 0, 2, 0],\n",
       "       [0, 5, 2, 2, 0, 2, 2, 2, 0],\n",
       "       [0, 1, 0, 0, 0, 0, 0, 0, 0]], dtype=uint8)"
      ]
     },
     "execution_count": 460,
     "metadata": {},
     "output_type": "execute_result"
    }
   ],
   "source": [
    "maze_grid"
   ]
  },
  {
   "cell_type": "code",
   "execution_count": 461,
   "metadata": {},
   "outputs": [
    {
     "data": {
      "text/plain": [
       "<matplotlib.image.AxesImage at 0x70b533470190>"
      ]
     },
     "execution_count": 461,
     "metadata": {},
     "output_type": "execute_result"
    },
    {
     "data": {
      "image/png": "[encoded data removed]",
      "text/plain": [
       "<Figure size 640x480 with 1 Axes>"
      ]
     },
     "metadata": {},
     "output_type": "display_data"
    }
   ],
   "source": [
    "plt.imshow(maze_grid, cmap=\"jet\", origin=\"lower\")"
   ]
  },
  {
   "cell_type": "markdown",
   "metadata": {},
   "source": [
    "### Graph representation of the maze"
   ]
  },
  {
   "cell_type": "code",
   "execution_count": 462,
   "metadata": {},
   "outputs": [],
   "source": [
    "tile2str = lambda i, j : f\"S_{i:02d}_{j:02d}\""
   ]
  },
  {
   "cell_type": "code",
   "execution_count": null,
   "metadata": {},
   "outputs": [],
   "source": [
    "network_dict = {}\n",
    "map_locations = {}\n",
    "for i in range(N):\n",
    "    for j in range(N):\n",
    "        if maze_grid[i,j]: \n",
    "            cell_dict = {}\n",
    "            if i>0 and maze_grid[i-1,j]: cell_dict[ tile2str(j,i-1) ] = 1\n",
    "            if i<N-1 and maze_grid[i+1,j]: cell_dict[ tile2str(j,i+1) ] = 1\n",
    "            if j>0 and maze_grid[i,j-1]: cell_dict[ tile2str(j-1,i) ] = 1\n",
    "            if j<N-1 and maze_grid[i,j+1]: cell_dict[ tile2str(j+1,i) ] = 1\n",
    "            network_dict[ tile2str(j,i) ] = cell_dict\n",
    "            map_locations[ tile2str(j,i) ] = (j,i)\n",
    "\n",
    "maze_start = tile2str(*m.start[::-1])\n",
    "maze_end = tile2str(*m.end[::-1])"
   ]
  },
  {
   "cell_type": "code",
   "execution_count": 477,
   "metadata": {},
   "outputs": [],
   "source": [
    "if M>0:\n",
    "    for w_k in range(M):\n",
    "        i_start, j_start = flat2square(wormholes[2*w_k], N)\n",
    "        i_end, j_end = flat2square(wormholes[2*w_k+1], N)\n",
    "        network_dict[ tile2str(j_start,i_start) ][ tile2str(j_end,i_end) ] = 1\n",
    "        # No need to add the backwards link, because it will be done automatically by AIMA"
   ]
  },
  {
   "cell_type": "code",
   "execution_count": 466,
   "metadata": {},
   "outputs": [
    {
     "data": {
      "text/plain": [
       "{'S_07_00': {'S_07_01': 1},\n",
       " 'S_01_01': {'S_02_01': 1},\n",
       " 'S_02_01': {'S_01_01': 1, 'S_03_01': 1},\n",
       " 'S_03_01': {'S_03_02': 1, 'S_02_01': 1},\n",
       " 'S_05_01': {'S_05_02': 1, 'S_06_01': 1},\n",
       " 'S_06_01': {'S_05_01': 1, 'S_07_01': 1},\n",
       " 'S_07_01': {'S_07_00': 1, 'S_06_01': 1},\n",
       " 'S_03_02': {'S_03_01': 1, 'S_03_03': 1},\n",
       " 'S_05_02': {'S_05_01': 1, 'S_05_03': 1},\n",
       " 'S_01_03': {'S_01_04': 1},\n",
       " 'S_03_03': {'S_03_02': 1, 'S_03_04': 1},\n",
       " 'S_05_03': {'S_05_02': 1, 'S_05_04': 1},\n",
       " 'S_07_03': {'S_07_04': 1},\n",
       " 'S_01_04': {'S_01_03': 1, 'S_01_05': 1},\n",
       " 'S_03_04': {'S_03_03': 1, 'S_03_05': 1},\n",
       " 'S_05_04': {'S_05_03': 1, 'S_05_05': 1},\n",
       " 'S_07_04': {'S_07_03': 1, 'S_07_05': 1},\n",
       " 'S_01_05': {'S_01_04': 1, 'S_01_06': 1, 'S_02_05': 1},\n",
       " 'S_02_05': {'S_01_05': 1, 'S_03_05': 1},\n",
       " 'S_03_05': {'S_03_04': 1, 'S_02_05': 1, 'S_04_05': 1},\n",
       " 'S_04_05': {'S_03_05': 1, 'S_05_05': 1},\n",
       " 'S_05_05': {'S_05_04': 1, 'S_05_06': 1, 'S_04_05': 1},\n",
       " 'S_07_05': {'S_07_04': 1, 'S_07_06': 1},\n",
       " 'S_01_06': {'S_01_05': 1, 'S_01_07': 1},\n",
       " 'S_05_06': {'S_05_05': 1, 'S_05_07': 1},\n",
       " 'S_07_06': {'S_07_05': 1, 'S_07_07': 1},\n",
       " 'S_01_07': {'S_01_06': 1, 'S_01_08': 1, 'S_02_07': 1},\n",
       " 'S_02_07': {'S_01_07': 1, 'S_03_07': 1},\n",
       " 'S_03_07': {'S_02_07': 1},\n",
       " 'S_05_07': {'S_05_06': 1, 'S_06_07': 1},\n",
       " 'S_06_07': {'S_05_07': 1, 'S_07_07': 1},\n",
       " 'S_07_07': {'S_07_06': 1, 'S_06_07': 1},\n",
       " 'S_01_08': {'S_01_07': 1}}"
      ]
     },
     "execution_count": 466,
     "metadata": {},
     "output_type": "execute_result"
    }
   ],
   "source": [
    "network_dict"
   ]
  },
  {
   "cell_type": "code",
   "execution_count": 467,
   "metadata": {},
   "outputs": [
    {
     "data": {
      "text/plain": [
       "{'S_07_00': (7, 0),\n",
       " 'S_01_01': (1, 1),\n",
       " 'S_02_01': (2, 1),\n",
       " 'S_03_01': (3, 1),\n",
       " 'S_05_01': (5, 1),\n",
       " 'S_06_01': (6, 1),\n",
       " 'S_07_01': (7, 1),\n",
       " 'S_03_02': (3, 2),\n",
       " 'S_05_02': (5, 2),\n",
       " 'S_01_03': (1, 3),\n",
       " 'S_03_03': (3, 3),\n",
       " 'S_05_03': (5, 3),\n",
       " 'S_07_03': (7, 3),\n",
       " 'S_01_04': (1, 4),\n",
       " 'S_03_04': (3, 4),\n",
       " 'S_05_04': (5, 4),\n",
       " 'S_07_04': (7, 4),\n",
       " 'S_01_05': (1, 5),\n",
       " 'S_02_05': (2, 5),\n",
       " 'S_03_05': (3, 5),\n",
       " 'S_04_05': (4, 5),\n",
       " 'S_05_05': (5, 5),\n",
       " 'S_07_05': (7, 5),\n",
       " 'S_01_06': (1, 6),\n",
       " 'S_05_06': (5, 6),\n",
       " 'S_07_06': (7, 6),\n",
       " 'S_01_07': (1, 7),\n",
       " 'S_02_07': (2, 7),\n",
       " 'S_03_07': (3, 7),\n",
       " 'S_05_07': (5, 7),\n",
       " 'S_06_07': (6, 7),\n",
       " 'S_07_07': (7, 7),\n",
       " 'S_01_08': (1, 8)}"
      ]
     },
     "execution_count": 467,
     "metadata": {},
     "output_type": "execute_result"
    }
   ],
   "source": [
    "map_locations"
   ]
  },
  {
   "cell_type": "markdown",
   "metadata": {},
   "source": [
    "Important personal interpretation\n",
    "- I am assuming that going down a teleportation link is optional: e.g. in (2,1) it's possible to go right, go left, or go down the teleportation link.\n",
    "- I am assuming that the wormholes are two-ways passages: e.g. from (2,1) you can go down the teleportation link to (0,7), and from (0,7) you can go back to (2,1)."
   ]
  },
  {
   "cell_type": "markdown",
   "metadata": {},
   "source": [
    "\n",
    "- Environment? Besides being discrete and static, it is...\n",
    "    - Deterministic, because wormholes might lead to an unknown state, but they always lead to the same state with 100% probability.\n",
    "    - Partially observable, because it is not known from the percepts where the \"teleport\" action is going to take the agent.\n",
    "- Actuators? Move the agent according to 5 possible actions:\n",
    "    - Left\n",
    "    - Right\n",
    "    - Up\n",
    "    - Down\n",
    "    - Teleport\n",
    "- Percepts? \n",
    "    - Current x,y location\n",
    "    - Feasibility of all 5 actions, expressed by booleans (l,r,u,d,t)\n",
    "- Sensors? Incomplete because...\n",
    "    - The agent knows to which state the (Left, Right, Up, Down) actions take it\n",
    "    - But the agent does not know to which state the (Teleport) action takes it\n",
    "- Performance measure? The sortest the path to goal, the better (in terms of steps taken from the start point)"
   ]
  },
  {
   "cell_type": "code",
   "execution_count": 478,
   "metadata": {},
   "outputs": [],
   "source": [
    "maze_map = sch.UndirectedGraph(network_dict)\n",
    "maze_map.locations = map_locations"
   ]
  },
  {
   "cell_type": "code",
   "execution_count": 479,
   "metadata": {},
   "outputs": [
    {
     "name": "stdout",
     "output_type": "stream",
     "text": [
      "Unique states/nodes (i.e.locations) and possible actions in those states:\n",
      "\n",
      "{'S_07_00': (7, 0), 'S_01_01': (1, 1), 'S_02_01': (2, 1), 'S_03_01': (3, 1), 'S_05_01': (5, 1), 'S_06_01': (6, 1), 'S_07_01': (7, 1), 'S_03_02': (3, 2), 'S_05_02': (5, 2), 'S_01_03': (1, 3), 'S_03_03': (3, 3), 'S_05_03': (5, 3), 'S_07_03': (7, 3), 'S_01_04': (1, 4), 'S_03_04': (3, 4), 'S_05_04': (5, 4), 'S_07_04': (7, 4), 'S_01_05': (1, 5), 'S_02_05': (2, 5), 'S_03_05': (3, 5), 'S_04_05': (4, 5), 'S_05_05': (5, 5), 'S_07_05': (7, 5), 'S_01_06': (1, 6), 'S_05_06': (5, 6), 'S_07_06': (7, 6), 'S_01_07': (1, 7), 'S_02_07': (2, 7), 'S_03_07': (3, 7), 'S_05_07': (5, 7), 'S_06_07': (6, 7), 'S_07_07': (7, 7), 'S_01_08': (1, 8)}\n"
     ]
    }
   ],
   "source": [
    "print(\"Unique states/nodes (i.e.locations) and possible actions in those states:\\n\") \n",
    "print(maze_map.locations) "
   ]
  },
  {
   "cell_type": "markdown",
   "metadata": {},
   "source": [
    "#### Visualization"
   ]
  },
  {
   "cell_type": "code",
   "execution_count": 480,
   "metadata": {},
   "outputs": [
    {
     "name": "stdout",
     "output_type": "stream",
     "text": [
      "Done creating the graph object\n"
     ]
    }
   ],
   "source": [
    "# node colors, node positions and node label positions\n",
    "node_colors = {node: 'white' for node in maze_map.locations.keys()}\n",
    "node_positions = maze_map.locations\n",
    "node_label_pos = { k:[v[0],v[1]-.3]  for k,v in maze_map.locations.items() }\n",
    "edge_weights = {(k, k2) : v2 for k, v in maze_map.graph_dict.items() for k2, v2 in v.items()}\n",
    "\n",
    "maze_graph_data = {  'graph_dict' : maze_map.graph_dict,\n",
    "                        'node_colors': node_colors,\n",
    "                        'node_positions': node_positions,\n",
    "                        'node_label_positions': node_label_pos,\n",
    "                        'edge_weights': edge_weights\n",
    "                     }\n",
    "\n",
    "print(\"Done creating the graph object\")"
   ]
  },
  {
   "cell_type": "code",
   "execution_count": 481,
   "metadata": {},
   "outputs": [
    {
     "data": {
      "image/png": "[encoded data removed]",
      "text/plain": [
       "<Figure size 1800x1300 with 1 Axes>"
      ]
     },
     "metadata": {},
     "output_type": "display_data"
    }
   ],
   "source": [
    "show_map(maze_graph_data)"
   ]
  },
  {
   "cell_type": "markdown",
   "metadata": {},
   "source": [
    "## Solving the problem"
   ]
  },
  {
   "cell_type": "markdown",
   "metadata": {},
   "source": [
    "Now that the graph/map has been completed in Q3.1.6 (c), we will try to use A-star to find a viable path."
   ]
  },
  {
   "cell_type": "markdown",
   "metadata": {},
   "source": [
    "### Define the problem using the AIMA toolbox"
   ]
  },
  {
   "cell_type": "code",
   "execution_count": 482,
   "metadata": {},
   "outputs": [
    {
     "name": "stdout",
     "output_type": "stream",
     "text": [
      "Initial state: S_01_08\n",
      "Goal state: S_07_00\n"
     ]
    }
   ],
   "source": [
    "maze_problem = sch.GraphProblem(maze_start, maze_end, maze_map)\n",
    "\n",
    "print(\"Initial state: \" + maze_problem.initial)\n",
    "print(\"Goal state: \"    + maze_problem.goal)"
   ]
  },
  {
   "cell_type": "markdown",
   "metadata": {},
   "source": [
    "### Define the A-star search function"
   ]
  },
  {
   "cell_type": "markdown",
   "metadata": {},
   "source": [
    "The cells below copy the A* implementation from Lab 3, using a helper functions from the AIMA toolbox.\n",
    "\n",
    "According to the current setup...\n",
    "- Heuristic function h = Euclidian distance to the maze exit\n",
    "- Cost function f = Uniform, weighted 1 for everything according to the network definition\n",
    "\n",
    "Since the weights are uniform, this algorithm is efectively running a greedy best first search that minimizes h\n"
   ]
  },
  {
   "cell_type": "code",
   "execution_count": 483,
   "metadata": {},
   "outputs": [],
   "source": [
    "def my_best_first_graph_search_for_vis(problem, f):\n",
    "    \"\"\"Search the nodes with the lowest f scores first.\n",
    "    You specify the function f(node) that you want to minimize; for example,\n",
    "    if f is a heuristic estimate to the goal, then we have greedy best\n",
    "    first search; if f is node.depth then we have breadth-first search.\n",
    "    There is a subtlety: the line \"f = memoize(f, 'f')\" means that the f\n",
    "    values will be cached on the nodes as they are computed. So after doing\n",
    "    a best first search you can examine the f values of the path returned.\"\"\"\n",
    "    \n",
    "    # we use these two variables at the time of visualisations\n",
    "    iterations = 0\n",
    "    all_node_colors = []\n",
    "    node_colors = {k : 'white' for k in problem.graph.nodes()}\n",
    "    \n",
    "    f = sch.memoize(f, 'f')\n",
    "    node = sch.Node(problem.initial)\n",
    "    \n",
    "    node_colors[node.state] = \"red\"\n",
    "    iterations += 1\n",
    "    all_node_colors.append(dict(node_colors))\n",
    "    \n",
    "    if problem.goal_test(node.state):\n",
    "        node_colors[node.state] = \"green\"\n",
    "        iterations += 1\n",
    "        all_node_colors.append(dict(node_colors))\n",
    "        return(iterations, all_node_colors, node)\n",
    "    \n",
    "    frontier = sch.PriorityQueue('min', f)\n",
    "    frontier.append(node)\n",
    "    \n",
    "    node_colors[node.state] = \"orange\"\n",
    "    iterations += 1\n",
    "    all_node_colors.append(dict(node_colors))\n",
    "    \n",
    "    explored = set()\n",
    "    while frontier:\n",
    "        node = frontier.pop()\n",
    "        \n",
    "        node_colors[node.state] = \"red\"\n",
    "        iterations += 1\n",
    "        all_node_colors.append(dict(node_colors))\n",
    "        \n",
    "        if problem.goal_test(node.state):\n",
    "            node_colors[node.state] = \"green\"\n",
    "            iterations += 1\n",
    "            all_node_colors.append(dict(node_colors))\n",
    "            return(iterations, all_node_colors, node)\n",
    "        \n",
    "        explored.add(node.state)\n",
    "        for child in node.expand(problem):\n",
    "            if child.state not in explored and child not in frontier:\n",
    "                frontier.append(child)\n",
    "                node_colors[child.state] = \"orange\"\n",
    "                iterations += 1\n",
    "                all_node_colors.append(dict(node_colors))\n",
    "            elif child in frontier:\n",
    "                incumbent = frontier[child]\n",
    "                if f(child) < f(incumbent):\n",
    "                    del frontier[incumbent]\n",
    "                    frontier.append(child)\n",
    "                    node_colors[child.state] = \"orange\"\n",
    "                    iterations += 1\n",
    "                    all_node_colors.append(dict(node_colors))\n",
    "\n",
    "        node_colors[node.state] = \"gray\"\n",
    "        iterations += 1\n",
    "        all_node_colors.append(dict(node_colors))\n",
    "    return None\n"
   ]
  },
  {
   "cell_type": "code",
   "execution_count": 484,
   "metadata": {},
   "outputs": [],
   "source": [
    "def my_astar_search_graph(problem, h=None):\n",
    "    \"\"\"A* search is best-first graph search with f(n) = g(n)+h(n).\n",
    "    You need to specify the h function when you call astar_search, or\n",
    "    else in your Problem subclass.\"\"\"\n",
    "    h = sch.memoize(h or problem.h, 'h')\n",
    "    iterations, all_node_colors, node = my_best_first_graph_search_for_vis(problem, \n",
    "                                                                lambda n: n.path_cost + h(n))\n",
    "    return(iterations, all_node_colors, node)"
   ]
  },
  {
   "cell_type": "markdown",
   "metadata": {},
   "source": [
    "### Run the solver"
   ]
  },
  {
   "cell_type": "code",
   "execution_count": 485,
   "metadata": {},
   "outputs": [
    {
     "name": "stdout",
     "output_type": "stream",
     "text": [
      "----------------------------------------\n",
      "Identified goal state:<Node S_07_00>\n",
      "----------------------------------------\n",
      "Solution trace:[<Node S_07_00>, <Node S_07_01>, <Node S_06_01>, <Node S_05_01>, <Node S_05_02>, <Node S_05_03>, <Node S_05_04>, <Node S_05_05>, <Node S_04_05>, <Node S_01_07>, <Node S_01_08>]\n",
      "----------------------------------------\n"
     ]
    }
   ],
   "source": [
    "all_node_colors=[]\n",
    "iterations, all_node_colors, node = my_astar_search_graph(problem=maze_problem, h=None)\n",
    "\n",
    "#-- Trace the solution --#\n",
    "solution_path = [node]\n",
    "cnode = node.parent\n",
    "solution_path.append(cnode)\n",
    "while cnode.state != maze_start:\n",
    "    cnode = cnode.parent  \n",
    "    solution_path.append(cnode)\n",
    "\n",
    "print(\"----------------------------------------\")\n",
    "print(\"Identified goal state:\"+str(solution_path[0]))\n",
    "print(\"----------------------------------------\")\n",
    "print(\"Solution trace:\"+str(solution_path))\n",
    "print(\"----------------------------------------\")\n"
   ]
  },
  {
   "cell_type": "markdown",
   "metadata": {},
   "source": [
    "### Visualization"
   ]
  },
  {
   "cell_type": "code",
   "execution_count": null,
   "metadata": {},
   "outputs": [
    {
     "name": "stdout",
     "output_type": "stream",
     "text": [
      "::: Full Visualization ::::\n"
     ]
    },
    {
     "data": {
      "application/vnd.jupyter.widget-view+json": {
       "model_id": "4500ac7be19f4d11bec81e39f3ff41d2",
       "version_major": 2,
       "version_minor": 0
      },
      "text/plain": [
       "interactive(children=(IntSlider(value=0, description='iteration', max=1), Output()), _dom_classes=('widget-int…"
      ]
     },
     "metadata": {},
     "output_type": "display_data"
    },
    {
     "data": {
      "application/vnd.jupyter.widget-view+json": {
       "model_id": "4baf051005fc4babae8bafacbaab3141",
       "version_major": 2,
       "version_minor": 0
      },
      "text/plain": [
       "interactive(children=(ToggleButton(value=False, description='Visualize'), Output()), _dom_classes=('widget-int…"
      ]
     },
     "metadata": {},
     "output_type": "display_data"
    },
    {
     "data": {
      "text/plain": [
       "<Figure size 1800x1300 with 0 Axes>"
      ]
     },
     "metadata": {},
     "output_type": "display_data"
    }
   ],
   "source": [
    "do_full_visualization = True\n",
    "if do_full_visualization:     \n",
    "    # WARNING the FULL visualisation might not work very well on some computers due to \n",
    "    # the large graph and the many iterations required.The visualisaiton will \n",
    "    # typically compute the solution and do the plotting at the end - and it often takes a long time ...\n",
    "    #\n",
    "    print(\"::: Full Visualization ::::\")\n",
    "    all_node_colors = []        \n",
    "    display_visual(maze_graph_data, user_input=False, \n",
    "               algorithm=my_astar_search_graph, \n",
    "               problem=maze_problem)"
   ]
  },
  {
   "cell_type": "markdown",
   "metadata": {},
   "source": [
    "#### Analysis"
   ]
  },
  {
   "cell_type": "markdown",
   "metadata": {},
   "source": [
    "The solution is not the optimal one."
   ]
  }
 ],
 "metadata": {
  "anaconda-cloud": {},
  "kernelspec": {
   "display_name": "AICoursework",
   "language": "python",
   "name": "python3"
  },
  "language_info": {
   "codemirror_mode": {
    "name": "ipython",
    "version": 3
   },
   "file_extension": ".py",
   "mimetype": "text/x-python",
   "name": "python",
   "nbconvert_exporter": "python",
   "pygments_lexer": "ipython3",
   "version": "3.13.0"
  },
  "widgets": {
   "state": {
    "1165590537ad42319be0fd672ba93fcf": {
     "views": [
      {
       "cell_index": 70
      }
     ]
    },
    "218bb03559334f53865f3c549687947f": {
     "views": [
      {
       "cell_index": 70
      }
     ]
    },
    "2da45e0a19e245e9a3766718bc868d68": {
     "views": [
      {
       "cell_index": 70
      }
     ]
    },
    "2e1f54660c9d49d0bd59d8783505c928": {
     "views": [
      {
       "cell_index": 73
      }
     ]
    },
    "388748b8801742c38b9efbd0f572e255": {
     "views": [
      {
       "cell_index": 70
      }
     ]
    },
    "3aa93a0d80464011866fbce0ab9c6847": {
     "views": [
      {
       "cell_index": 70
      }
     ]
    },
    "3b7f6cf85b15420182f027cefdbb4e41": {
     "views": [
      {
       "cell_index": 70
      }
     ]
    },
    "3ccc236121f746219ee914dd4eaf7745": {
     "views": [
      {
       "cell_index": 69
      }
     ]
    },
    "56e20e7ebc6b49c7a27f57bddb9d0d03": {
     "views": [
      {
       "cell_index": 70
      }
     ]
    },
    "572cff82823345058557962a93c21b14": {
     "views": [
      {
       "cell_index": 69
      }
     ]
    },
    "5e87b7cb75714dd9a3528f54bf26a330": {
     "views": [
      {
       "cell_index": 70
      }
     ]
    },
    "63f3739d2b8b499ab2e93ff9b98d2cd7": {
     "views": [
      {
       "cell_index": 74
      }
     ]
    },
    "6d4f09551948409ab609dd0ba0f80042": {
     "views": [
      {
       "cell_index": 70
      }
     ]
    },
    "7fa3698b72794594b321f1173c5334a1": {
     "views": [
      {
       "cell_index": 70
      }
     ]
    },
    "9df03dfad39b4a5ca5ded7be8afd4e3c": {
     "views": [
      {
       "cell_index": 73
      }
     ]
    },
    "a0f16426957b477bb254ed9909be63d1": {
     "views": [
      {
       "cell_index": 70
      }
     ]
    },
    "b406cc83e6fc4a4b932c7a120fb1149c": {
     "views": [
      {
       "cell_index": 75
      }
     ]
    },
    "c700f1455a714b1c9407172f8a5cbd88": {
     "views": [
      {
       "cell_index": 65
      }
     ]
    },
    "cca4938ba56444c386666cf90477abaa": {
     "views": [
      {
       "cell_index": 70
      }
     ]
    },
    "d2ae94a64b914cb38f8e714bd9701d97": {
     "views": [
      {
       "cell_index": 70
      }
     ]
    },
    "e2aeb79eea344a58a969b2963578f355": {
     "views": [
      {
       "cell_index": 75
      }
     ]
    },
    "e30b4000d76449d8bf0614226915668d": {
     "views": [
      {
       "cell_index": 70
      }
     ]
    },
    "e405328e5ad34d04b42a6ddfc22d6730": {
     "views": [
      {
       "cell_index": 70
      }
     ]
    },
    "fa3e57a2fcfb4302b47b0992eddc7063": {
     "views": [
      {
       "cell_index": 69
      }
     ]
    }
   },
   "version": "1.2.0"
  }
 },
 "nbformat": 4,
 "nbformat_minor": 4
}
