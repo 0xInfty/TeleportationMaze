{
 "cells": [
  {
   "cell_type": "markdown",
   "metadata": {
    "slideshow": {
     "slide_type": "-"
    }
   },
   "source": [
    "# Coursework for Artificial Intelligence M COMPSCI5087 2024-2025"
   ]
  },
  {
   "cell_type": "markdown",
   "metadata": {},
   "source": [
    "## Imports"
   ]
  },
  {
   "cell_type": "code",
   "execution_count": 2,
   "metadata": {},
   "outputs": [
    {
     "name": "stdout",
     "output_type": "stream",
     "text": [
      "Python version: 3.13.0 | packaged by Anaconda, Inc. | (main, Oct  7 2024, 21:29:38) [GCC 11.2.0]\n",
      "Networkx version: 3.4.2\n",
      "IPyWidgets version: 8.1.5\n"
     ]
    }
   ],
   "source": [
    "import os, sys\n",
    "import networkx as nx\n",
    "import json\n",
    "import numpy as np\n",
    "\n",
    "from matplotlib import use\n",
    "import matplotlib.pyplot as plt\n",
    "import ipywidgets as widgets\n",
    "use(\"Agg\")\n",
    "\n",
    "import warnings\n",
    "warnings.filterwarnings(\"ignore\")\n",
    "\n",
    "import maze as m\n",
    "import solvers as solv\n",
    "\n",
    "print(\"Python version:\", sys.version)\n",
    "print(\"Networkx version:\", nx.__version__)\n",
    "print(\"IPyWidgets version:\", widgets.__version__)\n",
    "\n",
    "%load_ext autoreload\n",
    "%autoreload 2"
   ]
  },
  {
   "cell_type": "markdown",
   "metadata": {},
   "source": [
    "## Parameters"
   ]
  },
  {
   "cell_type": "code",
   "execution_count": 3,
   "metadata": {},
   "outputs": [],
   "source": [
    "# N = [11] # Growing number of tiles on the side\n",
    "N = [11, 15, 21, 25, 31] # Growing number of tiles on the side\n",
    "M = 2 # Fixed number of wormholes\n",
    "\n",
    "n_repetitions = 20\n",
    "folder = \"N04\""
   ]
  },
  {
   "cell_type": "markdown",
   "metadata": {},
   "source": [
    "## Setup"
   ]
  },
  {
   "cell_type": "code",
   "execution_count": 9,
   "metadata": {},
   "outputs": [],
   "source": [
    "results_dir = os.path.join(\"solved\", folder)\n",
    "if not os.path.isdir(results_dir): os.mkdir(results_dir)\n",
    "\n",
    "filepath = lambda N, label, k, extension : os.path.join(results_dir, f\"{label}_{N:02.0f}_{k:02.0f}.{extension}\")"
   ]
  },
  {
   "cell_type": "markdown",
   "metadata": {},
   "source": [
    "## Problem Description"
   ]
  },
  {
   "cell_type": "markdown",
   "metadata": {},
   "source": [
    "Important personal interpretation\n",
    "- I am assuming that going down a teleportation link is optional: e.g. in (2,1) it's possible to go right, go left, or go down the teleportation link.\n",
    "- I am assuming that the wormholes are one-ways passages: e.g. from (2,1) you can go down the teleportation link to (0,7), but from (0,7) you can't go to (2,1)."
   ]
  },
  {
   "cell_type": "markdown",
   "metadata": {},
   "source": [
    "Problem details\n",
    "- Environment? Besides being discrete and static, it is...\n",
    "    - Deterministic, because wormholes might lead to an unknown state, but they always lead to the same state with 100% probability.\n",
    "    - Partially observable, because it is not known from the percepts where the \"teleport\" action is going to take the agent.\n",
    "- Actuators? Move the agent according to 5 possible actions:\n",
    "    - Left\n",
    "    - Right\n",
    "    - Up\n",
    "    - Down\n",
    "    - Teleport\n",
    "- Percepts? \n",
    "    - Current x,y location\n",
    "    - Feasibility of all 5 actions, expressed by booleans (l,r,u,d,t)\n",
    "- Sensors? Incomplete because...\n",
    "    - The agent knows to which state the (Left, Right, Up, Down) actions take it\n",
    "    - But the agent does not know to which state the (Teleport) action takes it\n",
    "- Performance measure? The sortest the path to goal, the better (in terms of steps taken from the start point)"
   ]
  },
  {
   "cell_type": "markdown",
   "metadata": {},
   "source": [
    "Important properties\n",
    "- Branching factor? $b=5$, due to the 5 possible actions; could be optimistically lowered to 3 for most cases, since most tiles are only connected to 2 neighbours.\n",
    "- Depth of the solution? $d\\leq 4(N-2)$ with no teleportation links, effectively less with teleportation links"
   ]
  },
  {
   "cell_type": "markdown",
   "metadata": {},
   "source": [
    "## Solver description"
   ]
  },
  {
   "cell_type": "markdown",
   "metadata": {},
   "source": [
    "The **heuristic function** $h$ is an arbitrary, non-negative, problem-specific function with one constrain: if $n$ is a goal node, then $h(n)=0$.\n",
    "\n",
    "_The tree-search version of A-star is optimal if the heuristic function is **admissible**_. \n",
    "\n",
    "A heuristic function is admissible if it never overestimates the cost to reach a goal, i.e. an admissible h is optimistic, returning the estimated cost of the cheapest/shortest path from a state to the goal.\n",
    "\n",
    "An agent at the start of a teleportation link can choose to go down the wormhole. However, it cannot know in advance where the exit is. _The most optimistic agent going down a wormhole will always assume that a wormhole can take you right to the exit._\n",
    "\n",
    "_The graph-search version of A-star is optimal if the heuristic function is **consistent**_. \n",
    "\n",
    "A heuristic function is consistent if, for every node $n$ and every successor $n'$ of $n$ generated by any action $a$, the estimated cost of reaching the goal from $n$ is no greater than the step cost of getting to $n'$ plus the estimated cost of reaching the goal from $n'$:\n",
    "\n",
    "$h(n) \\leq c(n,a,n') + h(n')$\n",
    "\n",
    "This is a form of the general triangle inequality. \n",
    "\n",
    "\"For an admissible heuristic, the inequality makes perfect sense: if there were a route from $n$ to $G_n$ via $n'$ that was cheaper than $h(n)$, that would violate the property that $h()n)$is a lower bound on the cost to reach $G_n$\" (Russel, S, & Norvig, P.: _Artificial Intelligence: A Modern Approach_, 3rd edition, Pearson Education, 2010, USA)\n",
    "\n",
    "If $h$ is consistent, then the values of $f(n)$ along any path are nondecreasing."
   ]
  },
  {
   "cell_type": "markdown",
   "metadata": {},
   "source": [
    "_Unfortunetely, my heuristic function is **not consistent nor admissible**_\n",
    "\n",
    "_The reason why I still chose A-star is because it strikes a good complexity balance, most probably reaching a good solution with less iterations that uniformed search methods such as DFS and BFS."
   ]
  },
  {
   "cell_type": "markdown",
   "metadata": {},
   "source": [
    "## Experiment"
   ]
  },
  {
   "cell_type": "code",
   "execution_count": 4,
   "metadata": {},
   "outputs": [],
   "source": [
    "n = N[0]\n",
    "k = 0\n",
    "\n",
    "problem_branching_factors = []\n",
    "problem_n_nodes = []\n",
    "\n",
    "solution_n_steps = []\n",
    "# solution_paths = []\n",
    "solution_depths = []\n",
    "solution_n_frontier = []\n",
    "solution_n_explored = []"
   ]
  },
  {
   "cell_type": "code",
   "execution_count": 5,
   "metadata": {},
   "outputs": [
    {
     "name": "stdout",
     "output_type": "stream",
     "text": [
      "> Maze size 11 > Repetition 0\n",
      "Solved in 134 iterations\n",
      "Saved solution path\n",
      "Added all results to lists\n",
      "Plotted\n",
      "> Maze size 11 > Repetition 1\n",
      "Solved in 55 iterations\n",
      "Saved solution path\n",
      "Added all results to lists\n",
      "Plotted\n",
      "> Maze size 11 > Repetition 2\n",
      "Solved in 150 iterations\n",
      "Saved solution path\n",
      "Added all results to lists\n",
      "Plotted\n",
      "> Maze size 11 > Repetition 3\n",
      "Solved in 74 iterations\n",
      "Saved solution path\n",
      "Added all results to lists\n",
      "Plotted\n",
      "> Maze size 11 > Repetition 4\n",
      "Solved in 88 iterations\n",
      "Saved solution path\n",
      "Added all results to lists\n",
      "Plotted\n",
      "> Maze size 11 > Repetition 5\n",
      "Solved in 80 iterations\n",
      "Saved solution path\n",
      "Added all results to lists\n",
      "Plotted\n",
      "> Maze size 11 > Repetition 6\n",
      "Solved in 76 iterations\n",
      "Saved solution path\n",
      "Added all results to lists\n",
      "Plotted\n",
      "> Maze size 11 > Repetition 7\n",
      "Solved in 55 iterations\n",
      "Saved solution path\n",
      "Added all results to lists\n",
      "Plotted\n",
      "> Maze size 11 > Repetition 8\n",
      "Solved in 122 iterations\n",
      "Saved solution path\n",
      "Added all results to lists\n",
      "Plotted\n",
      "> Maze size 11 > Repetition 9\n",
      "Solved in 56 iterations\n",
      "Saved solution path\n",
      "Added all results to lists\n",
      "Plotted\n",
      "> Maze size 11 > Repetition 10\n",
      "Solved in 63 iterations\n",
      "Saved solution path\n",
      "Added all results to lists\n",
      "Plotted\n",
      "> Maze size 11 > Repetition 11\n",
      "Solved in 114 iterations\n",
      "Saved solution path\n",
      "Added all results to lists\n",
      "Plotted\n",
      "> Maze size 11 > Repetition 12\n",
      "Solved in 100 iterations\n",
      "Saved solution path\n",
      "Added all results to lists\n",
      "Plotted\n",
      "> Maze size 11 > Repetition 13\n",
      "Solved in 73 iterations\n",
      "Saved solution path\n",
      "Added all results to lists\n",
      "Plotted\n",
      "> Maze size 11 > Repetition 14\n",
      "Solved in 59 iterations\n",
      "Saved solution path\n",
      "Added all results to lists\n",
      "Plotted\n",
      "> Maze size 11 > Repetition 15\n",
      "Solved in 60 iterations\n",
      "Saved solution path\n",
      "Added all results to lists\n",
      "Plotted\n",
      "> Maze size 11 > Repetition 16\n",
      "Solved in 128 iterations\n",
      "Saved solution path\n",
      "Added all results to lists\n",
      "Plotted\n",
      "> Maze size 11 > Repetition 17\n",
      "Solved in 42 iterations\n",
      "Saved solution path\n",
      "Added all results to lists\n",
      "Plotted\n",
      "> Maze size 11 > Repetition 18\n",
      "Solved in 50 iterations\n",
      "Saved solution path\n",
      "Added all results to lists\n",
      "Plotted\n",
      "> Maze size 11 > Repetition 19\n",
      "Solved in 51 iterations\n",
      "Saved solution path\n",
      "Added all results to lists\n",
      "Plotted\n",
      "> Maze size 15 > Repetition 0\n",
      "Solved in 117 iterations\n",
      "Saved solution path\n",
      "Added all results to lists\n",
      "Plotted\n",
      "> Maze size 15 > Repetition 1\n",
      "Solved in 94 iterations\n",
      "Saved solution path\n",
      "Added all results to lists\n",
      "Plotted\n",
      "> Maze size 15 > Repetition 2\n",
      "Solved in 222 iterations\n",
      "Saved solution path\n",
      "Added all results to lists\n",
      "Plotted\n",
      "> Maze size 15 > Repetition 3\n",
      "Solved in 153 iterations\n",
      "Saved solution path\n",
      "Added all results to lists\n",
      "Plotted\n",
      "> Maze size 15 > Repetition 4\n",
      "Solved in 187 iterations\n",
      "Saved solution path\n",
      "Added all results to lists\n",
      "Plotted\n",
      "> Maze size 15 > Repetition 5\n",
      "Solved in 105 iterations\n",
      "Saved solution path\n",
      "Added all results to lists\n",
      "Plotted\n",
      "> Maze size 15 > Repetition 6\n",
      "Solved in 126 iterations\n",
      "Saved solution path\n",
      "Added all results to lists\n",
      "Plotted\n",
      "> Maze size 15 > Repetition 7\n",
      "Solved in 162 iterations\n",
      "Saved solution path\n",
      "Added all results to lists\n",
      "Plotted\n",
      "> Maze size 15 > Repetition 8\n",
      "Solved in 93 iterations\n",
      "Saved solution path\n",
      "Added all results to lists\n",
      "Plotted\n",
      "> Maze size 15 > Repetition 9\n",
      "Solved in 147 iterations\n",
      "Saved solution path\n",
      "Added all results to lists\n",
      "Plotted\n",
      "> Maze size 15 > Repetition 10\n",
      "Solved in 140 iterations\n",
      "Saved solution path\n",
      "Added all results to lists\n",
      "Plotted\n",
      "> Maze size 15 > Repetition 11\n",
      "Solved in 148 iterations\n",
      "Saved solution path\n",
      "Added all results to lists\n",
      "Plotted\n",
      "> Maze size 15 > Repetition 12\n",
      "Solved in 70 iterations\n",
      "Saved solution path\n",
      "Added all results to lists\n",
      "Plotted\n",
      "> Maze size 15 > Repetition 13\n",
      "Solved in 76 iterations\n",
      "Saved solution path\n",
      "Added all results to lists\n",
      "Plotted\n",
      "> Maze size 15 > Repetition 14\n",
      "Solved in 148 iterations\n",
      "Saved solution path\n",
      "Added all results to lists\n",
      "Plotted\n",
      "> Maze size 15 > Repetition 15\n",
      "Solved in 235 iterations\n",
      "Saved solution path\n",
      "Added all results to lists\n",
      "Plotted\n",
      "> Maze size 15 > Repetition 16\n",
      "Solved in 126 iterations\n",
      "Saved solution path\n",
      "Added all results to lists\n",
      "Plotted\n",
      "> Maze size 15 > Repetition 17\n",
      "Solved in 172 iterations\n",
      "Saved solution path\n",
      "Added all results to lists\n",
      "Plotted\n",
      "> Maze size 15 > Repetition 18\n",
      "Solved in 158 iterations\n",
      "Saved solution path\n",
      "Added all results to lists\n",
      "Plotted\n",
      "> Maze size 15 > Repetition 19\n",
      "Solved in 84 iterations\n",
      "Saved solution path\n",
      "Added all results to lists\n",
      "Plotted\n",
      "> Maze size 21 > Repetition 0\n",
      "Solved in 372 iterations\n",
      "Saved solution path\n",
      "Added all results to lists\n",
      "Plotted\n",
      "> Maze size 21 > Repetition 1\n",
      "Solved in 409 iterations\n",
      "Saved solution path\n",
      "Added all results to lists\n",
      "Plotted\n",
      "> Maze size 21 > Repetition 2\n",
      "Solved in 154 iterations\n",
      "Saved solution path\n",
      "Added all results to lists\n",
      "Plotted\n",
      "> Maze size 21 > Repetition 3\n",
      "Solved in 297 iterations\n",
      "Saved solution path\n",
      "Added all results to lists\n",
      "Plotted\n",
      "> Maze size 21 > Repetition 4\n",
      "Solved in 170 iterations\n",
      "Saved solution path\n",
      "Added all results to lists\n",
      "Plotted\n",
      "> Maze size 21 > Repetition 5\n",
      "Solved in 202 iterations\n",
      "Saved solution path\n",
      "Added all results to lists\n",
      "Plotted\n",
      "> Maze size 21 > Repetition 6\n",
      "Solved in 173 iterations\n",
      "Saved solution path\n",
      "Added all results to lists\n",
      "Plotted\n",
      "> Maze size 21 > Repetition 7\n",
      "Solved in 207 iterations\n",
      "Saved solution path\n",
      "Added all results to lists\n",
      "Plotted\n",
      "> Maze size 21 > Repetition 8\n",
      "Solved in 289 iterations\n",
      "Saved solution path\n",
      "Added all results to lists\n",
      "Plotted\n",
      "> Maze size 21 > Repetition 9\n",
      "Solved in 238 iterations\n",
      "Saved solution path\n",
      "Added all results to lists\n",
      "Plotted\n",
      "> Maze size 21 > Repetition 10\n",
      "Solved in 243 iterations\n",
      "Saved solution path\n",
      "Added all results to lists\n",
      "Plotted\n",
      "> Maze size 21 > Repetition 11\n",
      "Solved in 141 iterations\n",
      "Saved solution path\n",
      "Added all results to lists\n",
      "Plotted\n",
      "> Maze size 21 > Repetition 12\n",
      "Solved in 403 iterations\n",
      "Saved solution path\n",
      "Added all results to lists\n",
      "Plotted\n",
      "> Maze size 21 > Repetition 13\n",
      "Solved in 96 iterations\n",
      "Saved solution path\n",
      "Added all results to lists\n",
      "Plotted\n",
      "> Maze size 21 > Repetition 14\n",
      "Solved in 188 iterations\n",
      "Saved solution path\n",
      "Added all results to lists\n",
      "Plotted\n",
      "> Maze size 21 > Repetition 15\n",
      "Solved in 217 iterations\n",
      "Saved solution path\n",
      "Added all results to lists\n",
      "Plotted\n",
      "> Maze size 21 > Repetition 16\n",
      "Solved in 217 iterations\n",
      "Saved solution path\n",
      "Added all results to lists\n",
      "Plotted\n",
      "> Maze size 21 > Repetition 17\n",
      "Solved in 179 iterations\n",
      "Saved solution path\n",
      "Added all results to lists\n",
      "Plotted\n",
      "> Maze size 21 > Repetition 18\n",
      "Solved in 256 iterations\n",
      "Saved solution path\n",
      "Added all results to lists\n",
      "Plotted\n",
      "> Maze size 21 > Repetition 19\n",
      "Solved in 111 iterations\n",
      "Saved solution path\n",
      "Added all results to lists\n",
      "Plotted\n",
      "> Maze size 25 > Repetition 0\n",
      "Solved in 70 iterations\n",
      "Saved solution path\n",
      "Added all results to lists\n",
      "Plotted\n",
      "> Maze size 25 > Repetition 1\n",
      "Solved in 257 iterations\n",
      "Saved solution path\n",
      "Added all results to lists\n",
      "Plotted\n",
      "> Maze size 25 > Repetition 2\n",
      "Solved in 270 iterations\n",
      "Saved solution path\n",
      "Added all results to lists\n",
      "Plotted\n",
      "> Maze size 25 > Repetition 3\n",
      "Solved in 181 iterations\n",
      "Saved solution path\n",
      "Added all results to lists\n",
      "Plotted\n",
      "> Maze size 25 > Repetition 4\n",
      "Solved in 308 iterations\n",
      "Saved solution path\n",
      "Added all results to lists\n",
      "Plotted\n",
      "> Maze size 25 > Repetition 5\n",
      "Solved in 192 iterations\n",
      "Saved solution path\n",
      "Added all results to lists\n",
      "Plotted\n",
      "> Maze size 25 > Repetition 6\n",
      "Solved in 462 iterations\n",
      "Saved solution path\n",
      "Added all results to lists\n",
      "Plotted\n",
      "> Maze size 25 > Repetition 7\n",
      "Solved in 254 iterations\n",
      "Saved solution path\n",
      "Added all results to lists\n",
      "Plotted\n",
      "> Maze size 25 > Repetition 8\n",
      "Solved in 217 iterations\n",
      "Saved solution path\n",
      "Added all results to lists\n",
      "Plotted\n",
      "> Maze size 25 > Repetition 9\n",
      "Solved in 294 iterations\n",
      "Saved solution path\n",
      "Added all results to lists\n",
      "Plotted\n",
      "> Maze size 25 > Repetition 10\n",
      "Solved in 365 iterations\n",
      "Saved solution path\n",
      "Added all results to lists\n",
      "Plotted\n",
      "> Maze size 25 > Repetition 11\n",
      "Solved in 221 iterations\n",
      "Saved solution path\n",
      "Added all results to lists\n",
      "Plotted\n",
      "> Maze size 25 > Repetition 12\n",
      "Solved in 624 iterations\n",
      "Saved solution path\n",
      "Added all results to lists\n",
      "Plotted\n",
      "> Maze size 25 > Repetition 13\n",
      "Solved in 394 iterations\n",
      "Saved solution path\n",
      "Added all results to lists\n",
      "Plotted\n",
      "> Maze size 25 > Repetition 14\n",
      "Solved in 197 iterations\n",
      "Saved solution path\n",
      "Added all results to lists\n",
      "Plotted\n",
      "> Maze size 25 > Repetition 15\n",
      "Solved in 352 iterations\n",
      "Saved solution path\n",
      "Added all results to lists\n",
      "Plotted\n",
      "> Maze size 25 > Repetition 16\n",
      "Solved in 129 iterations\n",
      "Saved solution path\n",
      "Added all results to lists\n",
      "Plotted\n",
      "> Maze size 25 > Repetition 17\n",
      "Solved in 306 iterations\n",
      "Saved solution path\n",
      "Added all results to lists\n",
      "Plotted\n",
      "> Maze size 25 > Repetition 18\n",
      "Solved in 298 iterations\n",
      "Saved solution path\n",
      "Added all results to lists\n",
      "Plotted\n",
      "> Maze size 25 > Repetition 19\n",
      "Solved in 403 iterations\n",
      "Saved solution path\n",
      "Added all results to lists\n",
      "Plotted\n",
      "> Maze size 31 > Repetition 0\n",
      "Solved in 278 iterations\n",
      "Saved solution path\n",
      "Added all results to lists\n",
      "Plotted\n",
      "> Maze size 31 > Repetition 1\n",
      "Solved in 380 iterations\n",
      "Saved solution path\n",
      "Added all results to lists\n",
      "Plotted\n",
      "> Maze size 31 > Repetition 2\n",
      "Solved in 368 iterations\n",
      "Saved solution path\n",
      "Added all results to lists\n",
      "Plotted\n",
      "> Maze size 31 > Repetition 3\n",
      "Solved in 324 iterations\n",
      "Saved solution path\n",
      "Added all results to lists\n",
      "Plotted\n",
      "> Maze size 31 > Repetition 4\n",
      "Solved in 499 iterations\n",
      "Saved solution path\n",
      "Added all results to lists\n",
      "Plotted\n",
      "> Maze size 31 > Repetition 5\n",
      "Solved in 932 iterations\n",
      "Saved solution path\n",
      "Added all results to lists\n",
      "Plotted\n",
      "> Maze size 31 > Repetition 6\n",
      "Solved in 813 iterations\n",
      "Saved solution path\n",
      "Added all results to lists\n",
      "Plotted\n",
      "> Maze size 31 > Repetition 7\n",
      "Solved in 398 iterations\n",
      "Saved solution path\n",
      "Added all results to lists\n",
      "Plotted\n",
      "> Maze size 31 > Repetition 8\n",
      "Solved in 318 iterations\n",
      "Saved solution path\n",
      "Added all results to lists\n",
      "Plotted\n",
      "> Maze size 31 > Repetition 9\n",
      "Solved in 382 iterations\n",
      "Saved solution path\n",
      "Added all results to lists\n",
      "Plotted\n",
      "> Maze size 31 > Repetition 10\n",
      "Solved in 319 iterations\n",
      "Saved solution path\n",
      "Added all results to lists\n",
      "Plotted\n",
      "> Maze size 31 > Repetition 11\n",
      "Solved in 515 iterations\n",
      "Saved solution path\n",
      "Added all results to lists\n",
      "Plotted\n",
      "> Maze size 31 > Repetition 12\n",
      "Solved in 297 iterations\n",
      "Saved solution path\n",
      "Added all results to lists\n",
      "Plotted\n",
      "> Maze size 31 > Repetition 13\n",
      "Solved in 408 iterations\n",
      "Saved solution path\n",
      "Added all results to lists\n",
      "Plotted\n",
      "> Maze size 31 > Repetition 14\n",
      "Solved in 556 iterations\n",
      "Saved solution path\n",
      "Added all results to lists\n",
      "Plotted\n",
      "> Maze size 31 > Repetition 15\n",
      "Solved in 435 iterations\n",
      "Saved solution path\n",
      "Added all results to lists\n",
      "Plotted\n",
      "> Maze size 31 > Repetition 16\n",
      "Solved in 406 iterations\n",
      "Saved solution path\n",
      "Added all results to lists\n",
      "Plotted\n",
      "> Maze size 31 > Repetition 17\n",
      "Solved in 560 iterations\n",
      "Saved solution path\n",
      "Added all results to lists\n",
      "Plotted\n",
      "> Maze size 31 > Repetition 18\n",
      "Solved in 577 iterations\n",
      "Saved solution path\n",
      "Added all results to lists\n",
      "Plotted\n",
      "> Maze size 31 > Repetition 19\n",
      "Solved in 233 iterations\n",
      "Saved solution path\n",
      "Added all results to lists\n",
      "Plotted\n"
     ]
    }
   ],
   "source": [
    "for n in N:\n",
    "\n",
    "    problem_branching_factors.append([])\n",
    "    problem_n_nodes.append([])\n",
    "\n",
    "    solution_n_steps.append([])\n",
    "    # solution_paths.append([])\n",
    "    solution_depths.append([])\n",
    "    solution_n_frontier.append([])\n",
    "    solution_n_explored.append([])\n",
    "\n",
    "    for k in range(n_repetitions):\n",
    "\n",
    "        print(f\"> Maze size {n} > Repetition {k}\")\n",
    "\n",
    "        maze_problem = m.wormholes_maze_problem(n, M, show_plots=True)\n",
    "        plt.savefig(filepath(n, \"maze\", k, \"png\"))\n",
    "        plt.close()\n",
    "\n",
    "        branching_factor = max([len(v) for (k,v) in maze_problem.graph.graph_dict.items()])\n",
    "        problem_branching_factors[-1].append(branching_factor)\n",
    "        problem_n_nodes[-1].append( len(maze_problem.graph.locations) )\n",
    "\n",
    "        n_steps, solution_path, all_node_colors = solv.wormholes_maze_A_star_solver(maze_problem, verbose=False)\n",
    "\n",
    "        print(f\"Solved in {n_steps} iterations\")\n",
    "\n",
    "        solution_n_steps[-1].append(n_steps)\n",
    "        # solution_paths[-1].append([node.state for node in solution_path])\n",
    "        solution_depths[-1].append(len(solution_path))\n",
    "\n",
    "        with open(filepath(n, \"path\", k, \"json\"), 'w', encoding='utf-8') as f:\n",
    "            json.dump(dict(solution_path=[node.state for node in solution_path]), f, \n",
    "                      ensure_ascii=False, indent=4)\n",
    "            \n",
    "        print(\"Saved solution path\")\n",
    "\n",
    "        n_frontier = sum([v==\"orange\" for v in all_node_colors[-1].values()])\n",
    "        n_explored = sum([v in [\"limegreen\",\"gray\"] for v in all_node_colors[-1].values()])\n",
    "        solution_n_frontier[-1].append(n_frontier)\n",
    "        solution_n_explored[-1].append(n_explored)\n",
    "        \n",
    "        print(\"Added all results to lists\")\n",
    "\n",
    "        m.show_wormholes_maze_problem(maze_problem, all_node_colors[-1], n_steps)\n",
    "        fig = plt.savefig(filepath(n, \"solution\", k, \"png\"))\n",
    "        plt.close(fig)\n",
    "\n",
    "        print(\"Plotted\")"
   ]
  },
  {
   "cell_type": "code",
   "execution_count": 6,
   "metadata": {},
   "outputs": [],
   "source": [
    "data = dict(problem_branching_factors=problem_branching_factors,\n",
    "            problem_n_nodes=problem_n_nodes,\n",
    "            solution_n_steps=solution_n_steps,\n",
    "            # solution_paths=solution_paths,\n",
    "            solution_depths=solution_depths,\n",
    "            solution_n_frontier=solution_n_frontier,\n",
    "            solution_n_explored=solution_n_explored)"
   ]
  },
  {
   "cell_type": "code",
   "execution_count": 7,
   "metadata": {},
   "outputs": [
    {
     "data": {
      "text/plain": [
       "{'problem_branching_factors': [[4,\n",
       "   4,\n",
       "   3,\n",
       "   5,\n",
       "   4,\n",
       "   4,\n",
       "   4,\n",
       "   4,\n",
       "   4,\n",
       "   4,\n",
       "   4,\n",
       "   4,\n",
       "   4,\n",
       "   4,\n",
       "   4,\n",
       "   4,\n",
       "   4,\n",
       "   4,\n",
       "   4,\n",
       "   4],\n",
       "  [4, 4, 4, 3, 4, 4, 4, 4, 4, 4, 4, 4, 4, 4, 4, 4, 4, 4, 4, 4],\n",
       "  [4, 4, 4, 4, 4, 4, 4, 4, 4, 4, 4, 4, 4, 4, 4, 4, 4, 4, 4, 5],\n",
       "  [4, 4, 4, 4, 4, 4, 4, 4, 4, 4, 4, 4, 5, 4, 4, 4, 4, 5, 4, 4],\n",
       "  [4, 4, 4, 4, 4, 4, 4, 4, 4, 4, 4, 4, 5, 4, 4, 4, 4, 4, 4, 4]],\n",
       " 'problem_n_nodes': [[51,\n",
       "   51,\n",
       "   51,\n",
       "   51,\n",
       "   51,\n",
       "   51,\n",
       "   51,\n",
       "   51,\n",
       "   51,\n",
       "   51,\n",
       "   51,\n",
       "   51,\n",
       "   51,\n",
       "   51,\n",
       "   51,\n",
       "   51,\n",
       "   51,\n",
       "   51,\n",
       "   51,\n",
       "   51],\n",
       "  [99,\n",
       "   99,\n",
       "   99,\n",
       "   99,\n",
       "   99,\n",
       "   99,\n",
       "   99,\n",
       "   99,\n",
       "   99,\n",
       "   99,\n",
       "   99,\n",
       "   99,\n",
       "   99,\n",
       "   99,\n",
       "   99,\n",
       "   99,\n",
       "   99,\n",
       "   99,\n",
       "   99,\n",
       "   99],\n",
       "  [201,\n",
       "   201,\n",
       "   201,\n",
       "   201,\n",
       "   201,\n",
       "   201,\n",
       "   201,\n",
       "   201,\n",
       "   201,\n",
       "   201,\n",
       "   201,\n",
       "   201,\n",
       "   201,\n",
       "   201,\n",
       "   201,\n",
       "   201,\n",
       "   201,\n",
       "   201,\n",
       "   201,\n",
       "   201],\n",
       "  [289,\n",
       "   289,\n",
       "   289,\n",
       "   289,\n",
       "   289,\n",
       "   289,\n",
       "   289,\n",
       "   289,\n",
       "   289,\n",
       "   289,\n",
       "   289,\n",
       "   289,\n",
       "   289,\n",
       "   289,\n",
       "   289,\n",
       "   289,\n",
       "   289,\n",
       "   289,\n",
       "   289,\n",
       "   289],\n",
       "  [451,\n",
       "   451,\n",
       "   451,\n",
       "   451,\n",
       "   451,\n",
       "   451,\n",
       "   451,\n",
       "   451,\n",
       "   451,\n",
       "   451,\n",
       "   451,\n",
       "   451,\n",
       "   451,\n",
       "   451,\n",
       "   451,\n",
       "   451,\n",
       "   451,\n",
       "   451,\n",
       "   451,\n",
       "   451]],\n",
       " 'solution_n_steps': [[134,\n",
       "   55,\n",
       "   150,\n",
       "   74,\n",
       "   88,\n",
       "   80,\n",
       "   76,\n",
       "   55,\n",
       "   122,\n",
       "   56,\n",
       "   63,\n",
       "   114,\n",
       "   100,\n",
       "   73,\n",
       "   59,\n",
       "   60,\n",
       "   128,\n",
       "   42,\n",
       "   50,\n",
       "   51],\n",
       "  [117,\n",
       "   94,\n",
       "   222,\n",
       "   153,\n",
       "   187,\n",
       "   105,\n",
       "   126,\n",
       "   162,\n",
       "   93,\n",
       "   147,\n",
       "   140,\n",
       "   148,\n",
       "   70,\n",
       "   76,\n",
       "   148,\n",
       "   235,\n",
       "   126,\n",
       "   172,\n",
       "   158,\n",
       "   84],\n",
       "  [372,\n",
       "   409,\n",
       "   154,\n",
       "   297,\n",
       "   170,\n",
       "   202,\n",
       "   173,\n",
       "   207,\n",
       "   289,\n",
       "   238,\n",
       "   243,\n",
       "   141,\n",
       "   403,\n",
       "   96,\n",
       "   188,\n",
       "   217,\n",
       "   217,\n",
       "   179,\n",
       "   256,\n",
       "   111],\n",
       "  [70,\n",
       "   257,\n",
       "   270,\n",
       "   181,\n",
       "   308,\n",
       "   192,\n",
       "   462,\n",
       "   254,\n",
       "   217,\n",
       "   294,\n",
       "   365,\n",
       "   221,\n",
       "   624,\n",
       "   394,\n",
       "   197,\n",
       "   352,\n",
       "   129,\n",
       "   306,\n",
       "   298,\n",
       "   403],\n",
       "  [278,\n",
       "   380,\n",
       "   368,\n",
       "   324,\n",
       "   499,\n",
       "   932,\n",
       "   813,\n",
       "   398,\n",
       "   318,\n",
       "   382,\n",
       "   319,\n",
       "   515,\n",
       "   297,\n",
       "   408,\n",
       "   556,\n",
       "   435,\n",
       "   406,\n",
       "   560,\n",
       "   577,\n",
       "   233]],\n",
       " 'solution_depths': [[27,\n",
       "   11,\n",
       "   19,\n",
       "   17,\n",
       "   13,\n",
       "   17,\n",
       "   14,\n",
       "   15,\n",
       "   11,\n",
       "   11,\n",
       "   13,\n",
       "   19,\n",
       "   17,\n",
       "   15,\n",
       "   13,\n",
       "   11,\n",
       "   18,\n",
       "   11,\n",
       "   9,\n",
       "   15],\n",
       "  [23,\n",
       "   21,\n",
       "   23,\n",
       "   31,\n",
       "   27,\n",
       "   19,\n",
       "   17,\n",
       "   31,\n",
       "   21,\n",
       "   27,\n",
       "   25,\n",
       "   25,\n",
       "   14,\n",
       "   17,\n",
       "   21,\n",
       "   33,\n",
       "   20,\n",
       "   31,\n",
       "   25,\n",
       "   21],\n",
       "  [36,\n",
       "   37,\n",
       "   29,\n",
       "   39,\n",
       "   33,\n",
       "   31,\n",
       "   31,\n",
       "   39,\n",
       "   43,\n",
       "   38,\n",
       "   29,\n",
       "   29,\n",
       "   49,\n",
       "   20,\n",
       "   31,\n",
       "   35,\n",
       "   31,\n",
       "   28,\n",
       "   44,\n",
       "   29],\n",
       "  [16,\n",
       "   41,\n",
       "   35,\n",
       "   39,\n",
       "   41,\n",
       "   31,\n",
       "   37,\n",
       "   41,\n",
       "   17,\n",
       "   43,\n",
       "   28,\n",
       "   34,\n",
       "   50,\n",
       "   45,\n",
       "   37,\n",
       "   47,\n",
       "   29,\n",
       "   41,\n",
       "   43,\n",
       "   49],\n",
       "  [47,\n",
       "   55,\n",
       "   47,\n",
       "   43,\n",
       "   55,\n",
       "   71,\n",
       "   65,\n",
       "   53,\n",
       "   44,\n",
       "   46,\n",
       "   47,\n",
       "   61,\n",
       "   51,\n",
       "   47,\n",
       "   63,\n",
       "   43,\n",
       "   42,\n",
       "   63,\n",
       "   47,\n",
       "   43]],\n",
       " 'solution_n_frontier': [[4,\n",
       "   2,\n",
       "   4,\n",
       "   10,\n",
       "   8,\n",
       "   6,\n",
       "   4,\n",
       "   6,\n",
       "   3,\n",
       "   6,\n",
       "   7,\n",
       "   5,\n",
       "   6,\n",
       "   5,\n",
       "   3,\n",
       "   9,\n",
       "   5,\n",
       "   2,\n",
       "   6,\n",
       "   5],\n",
       "  [6, 8, 6, 5, 11, 10, 8, 5, 8, 10, 9, 9, 2, 9, 6, 6, 7, 9, 12, 10],\n",
       "  [13, 11, 6, 10, 10, 8, 7, 11, 11, 15, 14, 11, 15, 10, 10, 11, 15, 14, 5, 11],\n",
       "  [5,\n",
       "   10,\n",
       "   11,\n",
       "   10,\n",
       "   13,\n",
       "   17,\n",
       "   12,\n",
       "   15,\n",
       "   5,\n",
       "   19,\n",
       "   11,\n",
       "   11,\n",
       "   12,\n",
       "   12,\n",
       "   15,\n",
       "   9,\n",
       "   14,\n",
       "   17,\n",
       "   15,\n",
       "   12],\n",
       "  [19,\n",
       "   7,\n",
       "   9,\n",
       "   16,\n",
       "   17,\n",
       "   22,\n",
       "   19,\n",
       "   19,\n",
       "   13,\n",
       "   17,\n",
       "   15,\n",
       "   18,\n",
       "   23,\n",
       "   11,\n",
       "   18,\n",
       "   17,\n",
       "   20,\n",
       "   25,\n",
       "   12,\n",
       "   16]],\n",
       " 'solution_n_explored': [[43,\n",
       "   14,\n",
       "   44,\n",
       "   19,\n",
       "   26,\n",
       "   24,\n",
       "   21,\n",
       "   16,\n",
       "   35,\n",
       "   14,\n",
       "   18,\n",
       "   36,\n",
       "   29,\n",
       "   22,\n",
       "   16,\n",
       "   16,\n",
       "   39,\n",
       "   13,\n",
       "   12,\n",
       "   15],\n",
       "  [36,\n",
       "   28,\n",
       "   71,\n",
       "   49,\n",
       "   56,\n",
       "   29,\n",
       "   36,\n",
       "   52,\n",
       "   28,\n",
       "   45,\n",
       "   43,\n",
       "   46,\n",
       "   19,\n",
       "   22,\n",
       "   45,\n",
       "   72,\n",
       "   37,\n",
       "   54,\n",
       "   48,\n",
       "   24],\n",
       "  [116,\n",
       "   132,\n",
       "   49,\n",
       "   95,\n",
       "   53,\n",
       "   64,\n",
       "   55,\n",
       "   65,\n",
       "   92,\n",
       "   71,\n",
       "   76,\n",
       "   43,\n",
       "   129,\n",
       "   26,\n",
       "   59,\n",
       "   68,\n",
       "   67,\n",
       "   52,\n",
       "   81,\n",
       "   33],\n",
       "  [19,\n",
       "   82,\n",
       "   86,\n",
       "   54,\n",
       "   98,\n",
       "   58,\n",
       "   149,\n",
       "   79,\n",
       "   68,\n",
       "   91,\n",
       "   116,\n",
       "   67,\n",
       "   199,\n",
       "   127,\n",
       "   56,\n",
       "   114,\n",
       "   38,\n",
       "   96,\n",
       "   94,\n",
       "   130],\n",
       "  [86,\n",
       "   124,\n",
       "   119,\n",
       "   100,\n",
       "   160,\n",
       "   303,\n",
       "   262,\n",
       "   126,\n",
       "   99,\n",
       "   119,\n",
       "   101,\n",
       "   163,\n",
       "   91,\n",
       "   132,\n",
       "   179,\n",
       "   139,\n",
       "   126,\n",
       "   178,\n",
       "   188,\n",
       "   72]]}"
      ]
     },
     "execution_count": 7,
     "metadata": {},
     "output_type": "execute_result"
    }
   ],
   "source": [
    "data"
   ]
  },
  {
   "cell_type": "code",
   "execution_count": 8,
   "metadata": {},
   "outputs": [],
   "source": [
    "with open(os.path.join(results_dir, 'data.json'), 'w', encoding='utf-8') as f:\n",
    "    json.dump(data, f, ensure_ascii=False, indent=4)"
   ]
  },
  {
   "cell_type": "markdown",
   "metadata": {},
   "source": [
    "## Analysis"
   ]
  },
  {
   "cell_type": "code",
   "execution_count": 11,
   "metadata": {},
   "outputs": [],
   "source": [
    "n_steps_mean = np.mean(solution_n_steps, axis=1)\n",
    "n_steps_std = np.std(solution_n_steps, axis=1)"
   ]
  },
  {
   "cell_type": "code",
   "execution_count": 12,
   "metadata": {},
   "outputs": [
    {
     "data": {
      "text/plain": [
       "array([ 81.5 , 138.15, 228.1 , 289.7 , 449.9 ])"
      ]
     },
     "execution_count": 12,
     "metadata": {},
     "output_type": "execute_result"
    }
   ],
   "source": [
    "n_steps_mean"
   ]
  },
  {
   "cell_type": "code",
   "execution_count": 13,
   "metadata": {},
   "outputs": [
    {
     "data": {
      "text/plain": [
       "array([ 7.01801254,  9.83241451, 19.34035936, 27.02694026, 38.19698287])"
      ]
     },
     "execution_count": 13,
     "metadata": {},
     "output_type": "execute_result"
    }
   ],
   "source": [
    "n_steps_std / np.sqrt(n_repetitions)"
   ]
  },
  {
   "cell_type": "markdown",
   "metadata": {},
   "source": [
    "### Results Analysis"
   ]
  },
  {
   "cell_type": "code",
   "execution_count": 15,
   "metadata": {},
   "outputs": [
    {
     "data": {
      "image/png": "[encoded data removed]",
      "text/plain": [
       "<Figure size 640x480 with 1 Axes>"
      ]
     },
     "metadata": {},
     "output_type": "display_data"
    }
   ],
   "source": [
    "plot_N = [10, 15, 20, 25, 30]\n",
    "\n",
    "# use(\"ipympl\")\n",
    "%matplotlib inline\n",
    "plt.errorbar(plot_N, n_steps_mean, n_steps_std / np.sqrt(n_repetitions), marker=\"o\", linestyle=\"none\", capsize=5)\n",
    "plt.xlabel(\"Maze side tiles\")\n",
    "plt.ylabel(\"Number of steps to find a solution\")\n",
    "plt.grid()\n",
    "\n",
    "plt.savefig(os.path.join(results_dir, \"data.png\"))"
   ]
  },
  {
   "cell_type": "code",
   "execution_count": 16,
   "metadata": {},
   "outputs": [],
   "source": [
    "depths_mean = np.mean(solution_depths, axis=1)\n",
    "depths_std = np.std(solution_depths, axis=1)"
   ]
  },
  {
   "cell_type": "code",
   "execution_count": 17,
   "metadata": {},
   "outputs": [
    {
     "data": {
      "text/plain": [
       "array([14.8 , 23.6 , 34.05, 37.2 , 51.65])"
      ]
     },
     "execution_count": 17,
     "metadata": {},
     "output_type": "execute_result"
    }
   ],
   "source": [
    "depths_mean"
   ]
  },
  {
   "cell_type": "code",
   "execution_count": 19,
   "metadata": {},
   "outputs": [
    {
     "data": {
      "text/plain": [
       "array([0.90166513, 1.14324101, 1.4619764 , 2.03174802, 1.89641108])"
      ]
     },
     "execution_count": 19,
     "metadata": {},
     "output_type": "execute_result"
    }
   ],
   "source": [
    "depths_std / np.sqrt(n_repetitions)"
   ]
  },
  {
   "cell_type": "markdown",
   "metadata": {},
   "source": [
    "### Other data"
   ]
  },
  {
   "cell_type": "code",
   "execution_count": null,
   "metadata": {},
   "outputs": [],
   "source": [
    "series = \"N04\""
   ]
  },
  {
   "cell_type": "code",
   "execution_count": null,
   "metadata": {},
   "outputs": [],
   "source": [
    "solution_n_steps = []\n",
    "solution_depths = []\n",
    "results_dir = os.path.join(\"solved\", series)\n",
    "results_filepath = os.path.join(results_dir, \"data.json\")\n",
    "# with open(os.path.join(results_dir, 'data.json'), 'w', encoding='utf-8') as f:\n",
    "    # json.dump(data, f, ensure_ascii=False, indent=4)\n",
    "with open(os.path.join(results_dir, 'data.json'), 'r') as file:\n",
    "    data = json.load(file)\n",
    "    solution_n_steps = data[\"solution_n_steps\"]\n",
    "    solution_depths = data[\"solution_depths\"]\n",
    "solution_n_steps = np.array(solution_n_steps)\n",
    "solution_depths = np.array(solution_depths)"
   ]
  },
  {
   "cell_type": "code",
   "execution_count": 26,
   "metadata": {},
   "outputs": [
    {
     "data": {
      "image/png": "[encoded data removed]",
      "text/plain": [
       "<Figure size 640x480 with 2 Axes>"
      ]
     },
     "metadata": {},
     "output_type": "display_data"
    }
   ],
   "source": [
    "# use(\"ipympl\")\n",
    "%matplotlib inline\n",
    "fig, ax = plt.subplots()\n",
    "ax2 = plt.twinx(ax)\n",
    "\n",
    "ax.errorbar(plot_N, n_steps_mean, n_steps_std / np.sqrt(n_repetitions), marker=\"o\", color=\"C0\", linestyle=\"none\", capsize=5)\n",
    "ax2.errorbar(plot_N, depths_mean, depths_std / np.sqrt(n_repetitions), marker=\"o\", color=\"C3\", linestyle=\"none\", alpha=0.5, capsize=5)\n",
    "ax.set_xlabel(\"Maze side tiles\")\n",
    "ax.set_ylabel(\"Number of steps to find a solution\")\n",
    "ax2.set_ylabel(\"Solution depth\")\n",
    "ax2.grid()\n",
    "\n",
    "ax.yaxis.label.set_color('C0')        #setting up X-axis label color to yellow\n",
    "ax2.yaxis.label.set_color('C3')          #setting up Y-axis label color to blue\n",
    "\n",
    "ax.tick_params(axis='y', colors='C0')    #setting up X-axis tick color to red\n",
    "ax2.tick_params(axis='y', colors='C3')  #setting up Y-axis tick color to black\n",
    "\n",
    "ax.spines['left'].set_color('C0')        # setting up Y-axis tick color to red\n",
    "ax2.spines['right'].set_color('C3')         #setting up above X-axis tick color to red\n",
    "\n",
    "plt.savefig(os.path.join(\"solved\", \"data5.png\"))"
   ]
  }
 ],
 "metadata": {
  "anaconda-cloud": {},
  "kernelspec": {
   "display_name": "AICoursework",
   "language": "python",
   "name": "python3"
  },
  "language_info": {
   "codemirror_mode": {
    "name": "ipython",
    "version": 3
   },
   "file_extension": ".py",
   "mimetype": "text/x-python",
   "name": "python",
   "nbconvert_exporter": "python",
   "pygments_lexer": "ipython3",
   "version": "3.13.0"
  },
  "widgets": {
   "state": {
    "1165590537ad42319be0fd672ba93fcf": {
     "views": [
      {
       "cell_index": 70
      }
     ]
    },
    "218bb03559334f53865f3c549687947f": {
     "views": [
      {
       "cell_index": 70
      }
     ]
    },
    "2da45e0a19e245e9a3766718bc868d68": {
     "views": [
      {
       "cell_index": 70
      }
     ]
    },
    "2e1f54660c9d49d0bd59d8783505c928": {
     "views": [
      {
       "cell_index": 73
      }
     ]
    },
    "388748b8801742c38b9efbd0f572e255": {
     "views": [
      {
       "cell_index": 70
      }
     ]
    },
    "3aa93a0d80464011866fbce0ab9c6847": {
     "views": [
      {
       "cell_index": 70
      }
     ]
    },
    "3b7f6cf85b15420182f027cefdbb4e41": {
     "views": [
      {
       "cell_index": 70
      }
     ]
    },
    "3ccc236121f746219ee914dd4eaf7745": {
     "views": [
      {
       "cell_index": 69
      }
     ]
    },
    "56e20e7ebc6b49c7a27f57bddb9d0d03": {
     "views": [
      {
       "cell_index": 70
      }
     ]
    },
    "572cff82823345058557962a93c21b14": {
     "views": [
      {
       "cell_index": 69
      }
     ]
    },
    "5e87b7cb75714dd9a3528f54bf26a330": {
     "views": [
      {
       "cell_index": 70
      }
     ]
    },
    "63f3739d2b8b499ab2e93ff9b98d2cd7": {
     "views": [
      {
       "cell_index": 74
      }
     ]
    },
    "6d4f09551948409ab609dd0ba0f80042": {
     "views": [
      {
       "cell_index": 70
      }
     ]
    },
    "7fa3698b72794594b321f1173c5334a1": {
     "views": [
      {
       "cell_index": 70
      }
     ]
    },
    "9df03dfad39b4a5ca5ded7be8afd4e3c": {
     "views": [
      {
       "cell_index": 73
      }
     ]
    },
    "a0f16426957b477bb254ed9909be63d1": {
     "views": [
      {
       "cell_index": 70
      }
     ]
    },
    "b406cc83e6fc4a4b932c7a120fb1149c": {
     "views": [
      {
       "cell_index": 75
      }
     ]
    },
    "c700f1455a714b1c9407172f8a5cbd88": {
     "views": [
      {
       "cell_index": 65
      }
     ]
    },
    "cca4938ba56444c386666cf90477abaa": {
     "views": [
      {
       "cell_index": 70
      }
     ]
    },
    "d2ae94a64b914cb38f8e714bd9701d97": {
     "views": [
      {
       "cell_index": 70
      }
     ]
    },
    "e2aeb79eea344a58a969b2963578f355": {
     "views": [
      {
       "cell_index": 75
      }
     ]
    },
    "e30b4000d76449d8bf0614226915668d": {
     "views": [
      {
       "cell_index": 70
      }
     ]
    },
    "e405328e5ad34d04b42a6ddfc22d6730": {
     "views": [
      {
       "cell_index": 70
      }
     ]
    },
    "fa3e57a2fcfb4302b47b0992eddc7063": {
     "views": [
      {
       "cell_index": 69
      }
     ]
    }
   },
   "version": "1.2.0"
  }
 },
 "nbformat": 4,
 "nbformat_minor": 4
}
